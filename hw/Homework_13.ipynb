{
 "cells": [
  {
   "cell_type": "markdown",
   "metadata": {},
   "source": [
    "# Homework 13 #"
   ]
  },
  {
   "cell_type": "code",
   "execution_count": 11,
   "metadata": {
    "collapsed": true
   },
   "outputs": [],
   "source": [
    "from datascience import *\n",
    "%matplotlib inline\n",
    "import matplotlib.pyplot as plt\n",
    "plt.style.use('fivethirtyeight')\n",
    "import numpy as np\n",
    "from scipy import stats"
   ]
  },
  {
   "cell_type": "markdown",
   "metadata": {},
   "source": [
    "This homework consists of five problems. In first two problems, you will establish facts stated in Data 8. Remember properties of the expectation and variance of a linear function of a random variable. In both problems, you have a random pair $(X, Y)$ and $\\hat{Y}$ is the best linear predictor of $Y$ based on $X$. "
   ]
  },
  {
   "cell_type": "markdown",
   "metadata": {},
   "source": [
    "## 1. The Average of the Residuals ##\n",
    "\n",
    "**a)** In Data 8 we say that the regression line passes through the point of averages. Show this by setting $X = \\mu_X$ and finding the corresponding value of $\\hat{Y}$.\n",
    "\n",
    "**b)** Find $E(\\hat{Y})$. In Data 8 language, this is the average of the fitted values.\n",
    "\n",
    "**c)** The difference $Y - \\hat{Y}$ is called a *residual*. It is the difference between the actual and fitted values of $Y$. Find the expectation of the residual and confirm that the answer justifies the following statement [from Data 8](https://www.inferentialthinking.com/chapters/15/6/Numerical_Diagnostics.html#Average-of-Residuals):\n",
    "\n",
    "\"No matter what the shape of the scatter diagram, the average of the residuals is 0.\""
   ]
  },
  {
   "cell_type": "markdown",
   "metadata": {},
   "source": [
    "## 2. An Interpretation of $r$ ##\n",
    "\n",
    "**a)** Find $Var(\\hat{Y})$.\n",
    "\n",
    "**b)** Show that the answer to Part **a** justifies the following statement [from Data 8](https://www.inferentialthinking.com/chapters/15/6/Numerical_Diagnostics.html#Another-Way-to-Interpret-$r$):\n",
    "\n",
    "$$\n",
    "\\frac{\\text{SD of fitted values}}{\\text{SD of y}} ~ = ~ \\vert r \\vert\n",
    "$$\n",
    "\n",
    "Note: Usually, the result above is stated in terms of variances instead of SDs, and hence $r^2$ is sometimes called \"the proportion of variability explained by the linear model\"."
   ]
  },
  {
   "cell_type": "markdown",
   "metadata": {},
   "source": [
    "## 3. 2017 SAT Scores ##\n",
    "\n",
    "In 2017, the SAT had a portion called ERW (Evidence-Based Reading and Writing) and another portion on Math. The scatter diagram of the scores on the two tests is football-shaped and the correlation between the two variables is 0.8.\n",
    "\n",
    "A student is picked randomly from those who took the SAT in 2017.\n",
    "\n",
    "**a)** Fill in the blanks without calculation, and justify your answer. Get the best bounds you can without calculation.\n",
    "\n",
    "Given that the student is on the 80th percentile of Math scores, the regression estimate of the student's rank on ERW is between the $\\underline{~~~~~~~~~~~~~~~~~~~~~}$ percentile and the $\\underline{~~~~~~~~~~~~~~~~~~~~~}$ percentile.\n",
    "\n",
    "**b)** Given that the student is on the 80th percentile of Math scores, use regression to estimate their percentile rank on ERW and confirm that it is consistent with your answer to Part **a**.\n",
    "\n",
    "**c)** Fill in the blanks without calculation, and justify your answer. Get the best bounds you can without calculation.\n",
    "\n",
    "Given that the student is on the 30th percentile of Math scores, the regression estimate of the student's rank on ERW is between the $\\underline{~~~~~~~~~~~~~~~~~~~~~}$ percentile and the $\\underline{~~~~~~~~~~~~~~~~~~~~~}$ percentile.\n",
    "\n",
    "**d)** Given that the student is on the 30th percentile of Math scores, use regression to estimate their percentile rank on ERW and confirm that it is consistent with your answer to Part **c**."
   ]
  },
  {
   "cell_type": "code",
   "execution_count": 10,
   "metadata": {
    "collapsed": true
   },
   "outputs": [],
   "source": [
    "# Code Cell for Problem 3\n",
    "\n",
    "\n",
    "\n",
    "\n"
   ]
  },
  {
   "cell_type": "markdown",
   "metadata": {},
   "source": [
    "## 4. Correlation Between Actual and Predicted Values ##\n",
    "\n",
    "Let $(X, Y)$ be a random pair and let $\\hat{Y}$ be the least squares linear predictor of $Y$ based on $X$. Assume that $r(X, Y) \\ne 0$.\n",
    "\n",
    "**a)** Without calculation, say what the sign of the correlation $r(Y, \\hat{Y})$ should be and explain your answer.\n",
    "\n",
    "**b)** Now find $r(Y, \\hat{Y})$ and confirm that it is consistent with your answer to Part **a**. "
   ]
  },
  {
   "cell_type": "markdown",
   "metadata": {},
   "source": [
    "## 5. Pre- and Post-Treatment ##\n",
    "In an experiment on treatments of Hodgkin's disease, a randomly selected group of patients were assessed before and after treatment. Since the treatment included radiation to each patient's chest area, there was some concern that the treatment might damage the patients' lungs as a side effect, at least in the short term. \n",
    "\n",
    "Doctors scored each patient on how much air the patient could blow out of their lungs, both before and shortly after the completion of the treatment. The larger the score, the more air the patient can blow out, and the more healthy the patients' lungs. \n",
    "\n",
    "The scores are in a table called `patients`; the column `Baseline` contains the pre-treatment score. \n",
    "\n",
    "**a)** Not surprisingly, patients with higher baseline scores tend to have higher post-treatment scores."
   ]
  },
  {
   "cell_type": "code",
   "execution_count": 12,
   "metadata": {},
   "outputs": [
    {
     "data": {
      "text/plain": [
       "(('Baseline', 'Post Treatment'), 22)"
      ]
     },
     "execution_count": 12,
     "metadata": {},
     "output_type": "execute_result"
    }
   ],
   "source": [
    "scores = Table.read_table('patients.csv')\n",
    "scores.labels, scores.num_rows"
   ]
  },
  {
   "cell_type": "code",
   "execution_count": 13,
   "metadata": {},
   "outputs": [
    {
     "data": {
      "image/png": "[encoded data removed]",
      "text/plain": [
       "<Figure size 360x360 with 1 Axes>"
      ]
     },
     "metadata": {},
     "output_type": "display_data"
    }
   ],
   "source": [
    "scores.scatter(0, 1)"
   ]
  },
  {
   "cell_type": "markdown",
   "metadata": {},
   "source": [
    "Assume the linear regression model. Use `stats.linregress` to perform the regression, and use the output to construct a 95%-confidence interval for the true slope.\n"
   ]
  },
  {
   "cell_type": "code",
   "execution_count": 14,
   "metadata": {
    "collapsed": true
   },
   "outputs": [],
   "source": [
    "# Code Cell for Problem 5a\n",
    "\n",
    "\n",
    "\n",
    "\n"
   ]
  },
  {
   "cell_type": "markdown",
   "metadata": {},
   "source": [
    "**b)** Do you think the true slope in Part **a** is equal to 0? Why or why not?"
   ]
  },
  {
   "cell_type": "markdown",
   "metadata": {},
   "source": [
    "**c)** Since the doctors were interested in the change in the patients' lung capacities, they measured the difference between the post-treatment and baseline scores."
   ]
  },
  {
   "cell_type": "code",
   "execution_count": 15,
   "metadata": {},
   "outputs": [
    {
     "data": {
      "text/plain": [
       "20"
      ]
     },
     "execution_count": 15,
     "metadata": {},
     "output_type": "execute_result"
    }
   ],
   "source": [
    "base = scores.column('Baseline')\n",
    "post = scores.column('Post Treatment')\n",
    "difference = post - base\n",
    "scores = scores.with_column('Difference', difference)\n",
    "scores.where('Difference', are.below(0)).num_rows"
   ]
  },
  {
   "cell_type": "markdown",
   "metadata": {},
   "source": [
    "The doctors were already concerned about lung damage before the treatment was administered. So use the information above to test whether the treatment hurt the patients' lungs. Set up reasonable null and alternative hypotheses, perform an appropriate test, and state your conclusion."
   ]
  },
  {
   "cell_type": "code",
   "execution_count": 16,
   "metadata": {
    "collapsed": true
   },
   "outputs": [],
   "source": [
    "# Code Cell for Problem 5c\n",
    "\n",
    "\n",
    "\n"
   ]
  },
  {
   "cell_type": "markdown",
   "metadata": {},
   "source": [
    "**d)** The data appear to indicate that patients with large baseline scores tend to have bigger drops in scores after treatment."
   ]
  },
  {
   "cell_type": "code",
   "execution_count": 17,
   "metadata": {},
   "outputs": [
    {
     "data": {
      "image/png": "[encoded data removed]",
      "text/plain": [
       "<Figure size 360x360 with 1 Axes>"
      ]
     },
     "metadata": {},
     "output_type": "display_data"
    }
   ],
   "source": [
    "scores.scatter(0, 2)"
   ]
  },
  {
   "cell_type": "markdown",
   "metadata": {},
   "source": [
    "Assume the linear regression model. With the help of `stats.linregress`, perform a test of whether or not the true slope is 0, as follows: \n",
    "\n",
    "State appropriate null and alternative hypotheses; select a test statistic and calculate its observed value; calculate the $p$-value and confirm that it is the same as the one reported by `stats.linregress`; state your conclusion using the 5% level for the test."
   ]
  },
  {
   "cell_type": "code",
   "execution_count": 18,
   "metadata": {
    "collapsed": true
   },
   "outputs": [],
   "source": [
    "# Code Cell for Problem 5d\n",
    "\n",
    "\n"
   ]
  },
  {
   "cell_type": "markdown",
   "metadata": {},
   "source": [
    "## Submission Instructions     \n",
    "Please follow the directions below to properly submit your homework.\n",
    "\n",
    "*  Scan all pages of **your work** into a PDF. You can use any scanner or a phone. Please **DO NOT** simply take pictures using your phone. \n",
    "* Please start a new page for each question. If you have already written multiple questions on the same page, you can crop the image or fold your page over (the old-fashioned way). This helps expedite grading.\n",
    "* It is your responsibility to check that all the work on all the scanned pages is legible.\n",
    "\n",
    "\n",
    "### Submitting\n",
    "* Submit the assignment to Homework 13 on Gradescope. \n",
    "* **Make sure to assign each page of your pdf to the correct question.**\n"
   ]
  },
  {
   "cell_type": "code",
   "execution_count": null,
   "metadata": {
    "collapsed": true
   },
   "outputs": [],
   "source": []
  }
 ],
 "metadata": {
  "kernelspec": {
   "display_name": "Python 3",
   "language": "python",
   "name": "python3"
  },
  "language_info": {
   "codemirror_mode": {
    "name": "ipython",
    "version": 3
   },
   "file_extension": ".py",
   "mimetype": "text/x-python",
   "name": "python",
   "nbconvert_exporter": "python",
   "pygments_lexer": "ipython3",
   "version": "3.6.3"
  }
 },
 "nbformat": 4,
 "nbformat_minor": 2
}
