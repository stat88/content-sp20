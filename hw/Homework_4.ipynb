{
 "cells": [
  {
   "cell_type": "code",
   "execution_count": 1,
   "metadata": {
    "collapsed": true
   },
   "outputs": [],
   "source": [
    "from datascience import *\n",
    "from scipy import stats\n",
    "import numpy as np"
   ]
  },
  {
   "cell_type": "markdown",
   "metadata": {},
   "source": [
    "# Homework 4 #"
   ]
  },
  {
   "cell_type": "markdown",
   "metadata": {},
   "source": [
    "## 1. Using a CDF ##\n",
    "\n",
    "The figure below shows the graph of a function $F$ which is the cumulative distribution function (cdf) of a random variable $X$. \n",
    "\n",
    "![cdf](hw4_cdf.png)\n",
    "\n",
    "Find the numerical values of the following chances and show your work. You don't need a code cell and shouldn't use one.\n",
    "\n",
    "**a)** $P(X > 0)$\n",
    "\n",
    "**b)** $P(X = 1)$\n",
    "\n",
    "**c)** $P(X \\le 1.8)$\n",
    "\n",
    "**d)** $P(X > 4)$\n",
    "\n",
    "**e)** $P(\\vert X - 1 \\vert \\le 1)$\n",
    "\n",
    "**f)** $P((X-2)(X-3) = 0)$"
   ]
  },
  {
   "cell_type": "markdown",
   "metadata": {},
   "source": [
    "## 2. Collecting Bears ##\n",
    "\n",
    "A cereal company puts a small plastic bear in some of its cereal boxes. Customers who collect 10 of these bears win a grand prize.\n",
    "\n",
    "Suppose that each box contains a bear with chance 1/5, independently of all other boxes. Suppose also that Rohan buys one box of this cereal each week.\n",
    "\n",
    "Let $T_1$ be the number of weeks it takes for Rohan to get his first bear.\n",
    "\n",
    "Let $T_{10}$ be the number of weeks it takes for Rohan to get his tenth bear.\n",
    "\n",
    "Find the following probabilities. In each part, first write a math expression for the chance, and then use the code cell at the end of the exercise to find the numerical value. Provide the numerical value along with your math expression.\n",
    "\n",
    "Note: Do not use `stats.geom.pmf` or `stats.geom.cdf`. You should be able to calculate the numerical value without these functions.\n",
    "\n",
    "**a)** $P(T_1 > 12)$\n",
    "\n",
    "**b)** $P(T_{10} = 40)$\n",
    "\n",
    "**c)** $P(T_{10} > 40)$\n",
    "\n",
    "**d)** $P(T_{10} > 40 \\mid T_{1} = 8)$"
   ]
  },
  {
   "cell_type": "code",
   "execution_count": 28,
   "metadata": {
    "collapsed": true
   },
   "outputs": [],
   "source": [
    "# code cell for Exercise 2 numerical calculations\n",
    "\n"
   ]
  },
  {
   "cell_type": "markdown",
   "metadata": {},
   "source": [
    "## 3. Missing after Resampling ##\n",
    "\n",
    "A sample of $n$ people includes Samir, Ophelia, and Yi. A bootstrap sample ($n$ draws at random with replacement) is drawn from the sample.\n",
    "\n",
    "**a)** Find the probability that none of Samir, Ophelia, and Yi is chosen in the bootstrap sample. Be careful about your use of the multiplication rule.\n",
    "\n",
    "**b)** In the code cell below, write a Python expression that evaluates to the numerical answer to part **a)** when $n = 5$. As usual, you won't be turning in the cell. Just pick the choice that arises from your calculation in Part **a)**. If you pick (iii), provide the numerical value of your answer.\n",
    "\n",
    "When $n = 5$ the answer to Part **a)** is about\n",
    "\n",
    "(i) 1%\n",
    "\n",
    "(ii) 3.5%\n",
    "\n",
    "(iii) Other: $\\underline{~~~~~~~~~~~~~~~~~~~}$"
   ]
  },
  {
   "cell_type": "code",
   "execution_count": 31,
   "metadata": {
    "collapsed": true
   },
   "outputs": [],
   "source": [
    "# expression that evaluates to the answer to 3a when n = 5\n",
    "\n",
    "..."
   ]
  },
  {
   "cell_type": "markdown",
   "metadata": {},
   "source": [
    "**c)** Find an exponential approximation to the answer in Part **a** when $n$ is large. Then use the code cell below to find the numerical value of your approximation. Remember that `np.e` evaluates to $e$. Provide the expression of your approximation along with the numerical value of your approximation in your writeup."
   ]
  },
  {
   "cell_type": "code",
   "execution_count": null,
   "metadata": {
    "collapsed": true
   },
   "outputs": [],
   "source": [
    "# expression that evaluates to the answer to 3c\n",
    "\n",
    "..."
   ]
  },
  {
   "cell_type": "markdown",
   "metadata": {},
   "source": [
    "## 4. Cars at a Crossing ##\n",
    "\n",
    "Chendi sits at a cafe for 30 minutes sipping tea and watching cars go by. Assume:\n",
    "\n",
    "- the number of US-made cars $U$ has the Poisson $(7)$ distribution\n",
    "- the number of Japanese-made cars $J$ has the Poisson $(5)$ distribution\n",
    "- the number of all other cars $X$ has the Poisson $(4)$ distribution\n",
    "\n",
    "Assume also that $U$, $J$, and $X$ are independent of each other, and let the total number of cars be $T = U + J + X$.\n",
    "\n",
    "Some parts below ask for numerical values as well as math expressions. There is a code cell at the end of the exercise for numerical computations.\n",
    "\n",
    "**a)** Write a math expression for $P(U \\ge 9, J \\ge 9)$ that does not include any infinite sums. Then use the code cell to find its numerical value, and provide the numerical value along with your expression.\n",
    "\n",
    "**b)** Write a math expression for $P(J = X)$. It is all right to have infinite sums in this one.\n",
    "\n",
    "**c)** Write a math expression for $P(T = 20)$, and provide its numerical value by using the code cell below."
   ]
  },
  {
   "cell_type": "code",
   "execution_count": 23,
   "metadata": {
    "collapsed": true
   },
   "outputs": [],
   "source": [
    "# code cell for Exercise 4 numerical calculations\n",
    "\n"
   ]
  },
  {
   "cell_type": "markdown",
   "metadata": {},
   "source": [
    "## 5. Déja Vu ##\n",
    "A die is rolled repeatedly. Let $R$ be the number of times the die is rolled till a face reappears. For example, if the rolls are 5 3 2 3 then $R = 4$.\n",
    "\n",
    "There is a code cell at the end of the exercise for numerical calculations.\n",
    "\n",
    "**a)** Find $P(R = 5)$. Show your work, and provide the numerical value as well.\n",
    "\n",
    "**b)** List all of the possible values of $R$ and explain your answer.\n",
    "\n",
    "**c)** Make a distribution table for $R$. Use the code cell to get numerical values of the probabilities. It is a good idea to check that the chances sum to 1, but you only have to include three decimal places in your table.\n",
    "\n",
    "**d)** Find $E(R)$. It's fine to use the rounded probabilities in your table."
   ]
  },
  {
   "cell_type": "code",
   "execution_count": 19,
   "metadata": {
    "collapsed": true
   },
   "outputs": [],
   "source": [
    "# code cell for Exercise 5 numerical calculations\n",
    "\n"
   ]
  },
  {
   "cell_type": "markdown",
   "metadata": {},
   "source": [
    "## Submission Instructions     \n",
    "Please follow the directions below to properly submit your homework.\n",
    "\n",
    "*  Scan all pages of **your work** into a PDF. You can use any scanner or a phone using an application. Please **DO NOT** simply take pictures using your phone. \n",
    "* Please start a new page for each question. If you have already written multiple questions on the same page, you can crop the image in CamScanner or fold your page over (the old-fashioned way). This helps expedite grading.\n",
    "* **It is your responsibility to check that all the work on all the scanned pages is legible.**\n",
    "\n",
    "\n",
    "### Submitting\n",
    "* Submit the assignment to Homework 4 on Gradescope. \n",
    "* **Make sure to assign each page of your pdf to the correct question.**\n"
   ]
  },
  {
   "cell_type": "code",
   "execution_count": null,
   "metadata": {
    "collapsed": true
   },
   "outputs": [],
   "source": []
  }
 ],
 "metadata": {
  "kernelspec": {
   "display_name": "Python 3",
   "language": "python",
   "name": "python3"
  },
  "language_info": {
   "codemirror_mode": {
    "name": "ipython",
    "version": 3
   },
   "file_extension": ".py",
   "mimetype": "text/x-python",
   "name": "python",
   "nbconvert_exporter": "python",
   "pygments_lexer": "ipython3",
   "version": "3.6.3"
  }
 },
 "nbformat": 4,
 "nbformat_minor": 2
}
