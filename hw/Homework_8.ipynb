{
 "cells": [
  {
   "cell_type": "code",
   "execution_count": 2,
   "metadata": {
    "collapsed": true
   },
   "outputs": [],
   "source": [
    "from scipy import stats\n",
    "import numpy as np"
   ]
  },
  {
   "cell_type": "markdown",
   "metadata": {},
   "source": [
    "# Homework 8 #\n",
    "\n",
    "For all questions with numerical answers that you cannot calculate by hand, use code cells to find the numerical answers. All the libraries you might need have been imported for you. Run the import cell at the top before you start the homework.\n"
   ]
  },
  {
   "cell_type": "markdown",
   "metadata": {},
   "source": [
    "## 1. Mendel's Purple Flowers ##\n",
    "\n",
    "In one of Gregor Mendel's experiments he grew 929 pea plants of which 705 were purple-flowering.\n",
    "\n",
    "Mendel's model was that each plant has chance 75% of being purple-flowering independently of other plants.\n",
    "\n",
    "A Data 8 students simulates the following experiment 10,000 times:\n",
    "\n",
    "- Count the number of successes in 929 i.i.d. success/failure trials each of which has success probability 0.75\n",
    "\n",
    "Let $X$ be the number of simulations in which the observed count of successes is at least 705.\n",
    "\n",
    "In each part below, use a code cell to find numerical values that you can't easily find by hand.\n",
    "\n",
    "**a)** Find the distribution of $X$. If it is one of the famous ones, just provide its name and parameters.\n",
    "\n",
    "**b)** Find $E(X)$.\n",
    "\n",
    "**c)** Find $SD(X)$."
   ]
  },
  {
   "cell_type": "code",
   "execution_count": null,
   "metadata": {
    "collapsed": true
   },
   "outputs": [],
   "source": [
    "# Code Cell for Problem 1\n",
    "\n",
    "\n",
    "\n"
   ]
  },
  {
   "cell_type": "markdown",
   "metadata": {},
   "source": [
    "## 2. SDs of Old Friends ##\n",
    "\n",
    "Each part below is about a random variable $X$ whose expectation you have found earlier in the term. Now find the SD as well. The questions are restated here for your convenience.\n",
    "\n",
    "For the expectations, you can just quote the results from your earlier work. Use Chapter 6 for SD formulas for random variables with the famous distributions, and use a code cell to get the numerical values.\n",
    "\n",
    "**a) [Refer to Homework 5 Exercise 2]** A standardized test consists of 100 multiple-choice questions. Each question has five possible answers, only one of which is correct. Four points are awarded for each correct answer. To discourage guessing, one point is taken away for every answer that is not correct (this includes answers that are missing).\n",
    "\n",
    "The company that creates the test has to understand how well a student could do just by random guessing. Suppose a student answers each question by picking one of the five choices at random independently of the choices on all other questions. Let $S$ be the student's score on the test. Find $E(S)$ and $SD(S)$.\n",
    "\n",
    "**b) [Refer to Homework 6 Exercise 5b]**  Each box of Cal Crunch cereal contains a sticker. The sticker is equally likely to have one of the following five pictures on it, independently of the stickers in all other boxes: a walking bear, a sleeping bear, the Campanile, Sather Gate, Evans Hall\n",
    "\n",
    "Stat 88 GSIs love to snack on Cal Crunch so they buy a box each week and put the sticker in their collection. Find the expectation and SD of the number of weeks till their collection has all five kinds of stickers.\n",
    "\n"
   ]
  },
  {
   "cell_type": "code",
   "execution_count": null,
   "metadata": {
    "collapsed": true
   },
   "outputs": [],
   "source": [
    "# Code Cell for Problem 2\n",
    "\n",
    "\n",
    "\n"
   ]
  },
  {
   "cell_type": "markdown",
   "metadata": {},
   "source": [
    "## 3. Family and Non-Family Households ##\n",
    "\n",
    "In the Census, each household can identify itself as either a \"family\" household or a \"non-family\" household. Examples of a non-family household are single person households and groups of students who share a house.\n",
    "\n",
    "- Alameda County has hundreds of thousands of households, of which 65% are family households. The rest are non-family households.\n",
    "- San Francisco County also has hundreds of thousands of households of which 44% are family households.\n",
    "\n",
    "A simple random sample of 400 households is taken in Alameda County. Independently, a simple random sample of 400 households is taken in San Francisco County.\n",
    "\n",
    "- In the Alameda County sample, let $A_f$ be the number of family households and $A_{nf}$ the number of non-family households. \n",
    "- In the San Francisco County sample, let $S_f$ be the number of family households.\n",
    "\n",
    "In each part below, be clear about the assumptions that you are making, and use a code cell to find the numerical values.\n",
    "\n",
    "**a)** Find the expectation and SD of $A_f - S_f$.\n",
    "\n",
    "**b)** Find the expectation and SD of $A_f - A_{nf}$."
   ]
  },
  {
   "cell_type": "code",
   "execution_count": null,
   "metadata": {
    "collapsed": true
   },
   "outputs": [],
   "source": [
    "# Code Cell for Problem 3\n",
    "\n",
    "\n",
    "\n"
   ]
  },
  {
   "cell_type": "markdown",
   "metadata": {},
   "source": [
    "## 4. Comparing Variability ##\n",
    "\n",
    "**a)** A standard deck consists of 52 cards. Four of the cards are aces. Twenty-six of the cards are red. A poker hand consists of 5 cards dealt at random from the deck. **Without calculation,** say which has the bigger SD and explain why: \n",
    "\n",
    "- the number of aces in the poker hand\n",
    "- the number of red cards in the poker hand\n",
    "\n",
    "**b)** Use a code cell to find the numerical values of the SDs of the two random variables in Part **a)** and check that they are consistent with your answer to **a)**.\n",
    "\n",
    "**c)** California (population about 40 million) has about twice as many people as New York State (population about 20 million). **Without calculation,** pick the correct option and explain your choice.\n",
    "\n",
    "If the underlying population SDs are equal, a simple random sample of 1000 people in California is\n",
    "\n",
    "**(i)** about half as accurate \n",
    "\n",
    "**(ii)** about $1/\\sqrt{2}$ times as accurate\n",
    "\n",
    "**(iii)** about as accurate\n",
    "\n",
    "**(iv)** about $\\sqrt{2}$ times as accurate\n",
    "\n",
    "**(v)** about twice as accurate\n",
    "\n",
    "as a simple random sample of 1000 people in New York State."
   ]
  },
  {
   "cell_type": "code",
   "execution_count": null,
   "metadata": {
    "collapsed": true
   },
   "outputs": [],
   "source": [
    "# Code Cell for Problem 4\n",
    "\n",
    "\n",
    "\n"
   ]
  },
  {
   "cell_type": "markdown",
   "metadata": {},
   "source": [
    "## 5. Comparing Chances ##\n",
    "\n",
    "**a)** Suppose a coin is tossed repeatedly. **Without any calculation** other than obvious conversions between counts and percents, say which (if any) of the following chances is bigger. Explain your answer.\n",
    "\n",
    "- the chance of getting between 40 and 60 heads (that is, 40 through 60) in 100 tosses\n",
    "- the chance of getting between 400 and 600 heads in 1000 tosses\n",
    "\n",
    "**b)** Use a code cell to find the numerical values of the two chances in Part **a)** and check that they are consistent with your answer to **a)**.\n",
    "\n",
    "**c)** Roll a die repeatedly. **Without any calculation** other than obvious conversions between counts and percents, say which (if any) of the following chances is bigger. Explain your answer.\n",
    "\n",
    "- the chance that the percent of sixes in $n$ rolls is greater than 20%\n",
    "- the chance that the percent of sixes in $2n$ rolls is greater than 20%\n"
   ]
  },
  {
   "cell_type": "code",
   "execution_count": null,
   "metadata": {
    "collapsed": true
   },
   "outputs": [],
   "source": [
    "# Code Cell for Problem 5\n",
    "\n",
    "\n",
    "\n"
   ]
  },
  {
   "cell_type": "markdown",
   "metadata": {},
   "source": [
    "## Submission Instructions     \n",
    "Please follow the directions below to properly submit your homework.\n",
    "\n",
    "*  Scan all pages of **your work** into a PDF. You can use any scanner or a phone. Please **DO NOT** simply take pictures using your phone. \n",
    "* Please start a new page for each question. If you have already written multiple questions on the same page, you can crop the image or fold your page over (the old-fashioned way). This helps expedite grading.\n",
    "* It is your responsibility to check that all the work on all the scanned pages is legible.\n",
    "\n",
    "\n",
    "### Submitting\n",
    "* Submit the assignment to Homework 8 on Gradescope. \n",
    "* **Make sure to assign each page of your pdf to the correct question.**\n"
   ]
  },
  {
   "cell_type": "code",
   "execution_count": null,
   "metadata": {
    "collapsed": true
   },
   "outputs": [],
   "source": []
  }
 ],
 "metadata": {
  "kernelspec": {
   "display_name": "Python 3",
   "language": "python",
   "name": "python3"
  },
  "language_info": {
   "codemirror_mode": {
    "name": "ipython",
    "version": 3
   },
   "file_extension": ".py",
   "mimetype": "text/x-python",
   "name": "python",
   "nbconvert_exporter": "python",
   "pygments_lexer": "ipython3",
   "version": "3.6.3"
  }
 },
 "nbformat": 4,
 "nbformat_minor": 2
}
