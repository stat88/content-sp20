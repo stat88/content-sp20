{
 "cells": [
  {
   "cell_type": "code",
   "execution_count": 7,
   "metadata": {
    "collapsed": true
   },
   "outputs": [],
   "source": [
    "from datascience import *\n",
    "from prob140 import *\n",
    "%matplotlib inline\n",
    "import matplotlib.pyplot as plt\n",
    "plt.style.use('fivethirtyeight')\n",
    "import numpy as np\n",
    "from scipy import stats\n",
    "import warnings\n",
    "warnings.filterwarnings('ignore')"
   ]
  },
  {
   "cell_type": "markdown",
   "metadata": {},
   "source": [
    "# Homework 10 #"
   ]
  },
  {
   "cell_type": "markdown",
   "metadata": {},
   "source": [
    "## 1. Taste Test ##\n",
    "\n",
    "A student claims to be able to distinguish the taste of Cal Blue coffee from Cal Gold coffee, even though his friends say the two coffees are the same in appearance, aroma, and taste. The student agrees to take a blind taste test consisting of 10 trials as follows.\n",
    "\n",
    "On each trial, the student is given two identical unmarked cups (small ones!), one containing Cal Blue and the other containing Cal Gold. He is not told which is which. He has to drink the contents and say which one is Cal Blue.\n",
    "\n",
    "The student picks correctly on seven out of the 10 trials. He says that his friends now have to accept his claim. His friends say they will do no such thing because he could just have been guessing at random. \n",
    "\n",
    "Decide which position is better supported by the data, in the following steps.\n",
    "\n",
    "**a)** State an appropriate null hypothesis in non-technical terms and also as a set of assumptions about random variables.\n",
    "\n",
    "**b)** State an appropriate alternative hypothesis.\n",
    "\n",
    "**c)** What test statistic are you going to use? Justify your choice.\n",
    "\n",
    "**d)** Find an exact or approximate $p$-value.\n",
    "\n",
    "**e)** At the 5% level, what is the conlcusion of the test? Why?"
   ]
  },
  {
   "cell_type": "code",
   "execution_count": null,
   "metadata": {
    "collapsed": true
   },
   "outputs": [],
   "source": [
    "# Code Cell for Question 1\n",
    "\n",
    "\n",
    "\n"
   ]
  },
  {
   "cell_type": "markdown",
   "metadata": {},
   "source": [
    "## 2. Reading Test ##\n",
    "\n",
    "In 2017, the average reading score of the fourth graders in the United States was 222 points. In a simple random sample of 16,000 fourth graders taken nationally in 2019, the average reading score is 221 and the SD is 40 points. \n",
    "\n",
    "Is the national average reading score for fourth graders in 2019 different from what it was in 2017? Or is the observed difference just chance variation? Perform a test of hypotheses to answer the question, in the following steps.\n",
    "\n",
    "**a)** State an appropriate null hypothesis in non-technical terms and also as a set of assumptions about random variables.\n",
    "\n",
    "**b)** State an appropriate alternative hypothesis.\n",
    "\n",
    "**c)** What test statistic are you going to use? Justify your choice.\n",
    "\n",
    "**d)** Find an exact or approximate $p$-value.\n",
    "\n",
    "**e)** At the 5% level, what is the conclusion of the test? Why?"
   ]
  },
  {
   "cell_type": "code",
   "execution_count": 1,
   "metadata": {
    "collapsed": true
   },
   "outputs": [],
   "source": [
    "# Code Cell for Question 2\n",
    "\n",
    "\n",
    "\n"
   ]
  },
  {
   "cell_type": "markdown",
   "metadata": {},
   "source": [
    "## 3. Ages ##\n",
    "\n",
    "In a simple random sample of size 400 drawn from a population, the average age is 40 years and the SD is 20 years. Also, 18% of the people in the sample are senior citizens. \n",
    "\n",
    "For parts a and c, show your work of how you constructed the confidence interval but use the code cell to provide a final numerical answer for the interval.\n",
    "\n",
    "**a)** Construct an approximate 95% confidence interval for the average age of the people in the population.\n",
    "\n",
    "**b)** True or false (explain): The ages of approximately 95% of the population are in the interval you found in Part **a**.\n",
    "\n",
    "**c)** Construct an approximate 95% confidence interval for the **percent** (not the proportion) of senior citizens in the population."
   ]
  },
  {
   "cell_type": "code",
   "execution_count": null,
   "metadata": {
    "collapsed": true
   },
   "outputs": [],
   "source": [
    "# Code Cell for Question 3\n",
    "\n",
    "\n",
    "\n"
   ]
  },
  {
   "cell_type": "markdown",
   "metadata": {},
   "source": [
    "## 4. Unemployment ##\n",
    "A survey organization is estimating the percent of unemployed adults among all adults in a city. According to their calculations, an approximate 95% confidence interval for this percent is $(8\\%, 9\\%)$. You can assume that the interval was calculated correctly using the methods of our class applied to a large simple random sample of adults in the city.\n",
    "\n",
    "**a)** If possible, find the percent of unemployed adults among all adults in the city. If this is not possible, explain why not.\n",
    "\n",
    "**b)** If possible, find the percent of unemployed adults among all adults in the sample. If this is not possible, explain why not.\n",
    "\n",
    "**c)** If possible, find an approximate 99% confidence interval for the percent of unemployed adults among all adults in the city. If this is not possible, explain why not."
   ]
  },
  {
   "cell_type": "code",
   "execution_count": null,
   "metadata": {
    "collapsed": true
   },
   "outputs": [],
   "source": [
    "# Code Cell for Question 4\n",
    "\n",
    "\n",
    "\n"
   ]
  },
  {
   "cell_type": "markdown",
   "metadata": {},
   "source": [
    "## 5. Repeated Testing ##\n",
    "\n",
    "There are 210 students in Stat 88. As an exercise, each of them tests the fairness of the same coin. Each student tests the hypothesis \n",
    "\n",
    "$H_0$: The coin is fair \n",
    "\n",
    "versus \n",
    "\n",
    "$H_A$: The coin is not fair \n",
    "\n",
    "at the 5% level. \n",
    "\n",
    "Suppose the coin is in fact fair, though the students don't know it. \n",
    "\n",
    "If possible, say which of the three figures below is the probability histogram of the number of students whose test concludes that the coin is unfair and explain your selection.\n",
    "\n",
    "If this is not possible, explain why not."
   ]
  },
  {
   "cell_type": "code",
   "execution_count": null,
   "metadata": {
    "collapsed": true
   },
   "outputs": [],
   "source": [
    "# Code Cell for Question 5\n",
    "\n",
    "\n",
    "\n"
   ]
  },
  {
   "cell_type": "markdown",
   "metadata": {},
   "source": [
    "#### Figure 1\n",
    "\n",
    "![](HW10_5_Plot_1.png \"Figure 1\")\n",
    "\n",
    "#### Figure 2\n",
    "\n",
    "![](HW10_5_Plot_2.png)\n",
    "\n",
    "#### Figure 3\n",
    "\n",
    "![](HW10_5_Plot_3.png)\n",
    "\n",
    "\n",
    "\n",
    "\n"
   ]
  },
  {
   "cell_type": "markdown",
   "metadata": {},
   "source": [
    "## Submission Instructions     \n",
    "Please follow the directions below to properly submit your homework.\n",
    "\n",
    "*  Scan all pages of **your work** into a PDF. You can use any scanner or a phone. Please **DO NOT** simply take pictures using your phone. \n",
    "* Please start a new page for each question. If you have already written multiple questions on the same page, you can crop the image or fold your page over (the old-fashioned way). This helps expedite grading.\n",
    "* It is your responsibility to check that all the work on all the scanned pages is legible.\n",
    "\n",
    "\n",
    "### Submitting\n",
    "* Submit the assignment to Homework 10 on Gradescope. \n",
    "* **Make sure to assign each page of your pdf to the correct question.**\n"
   ]
  },
  {
   "cell_type": "code",
   "execution_count": null,
   "metadata": {
    "collapsed": true
   },
   "outputs": [],
   "source": []
  }
 ],
 "metadata": {
  "kernelspec": {
   "display_name": "Python 3",
   "language": "python",
   "name": "python3"
  },
  "language_info": {
   "codemirror_mode": {
    "name": "ipython",
    "version": 3
   },
   "file_extension": ".py",
   "mimetype": "text/x-python",
   "name": "python",
   "nbconvert_exporter": "python",
   "pygments_lexer": "ipython3",
   "version": "3.6.3"
  }
 },
 "nbformat": 4,
 "nbformat_minor": 2
}
