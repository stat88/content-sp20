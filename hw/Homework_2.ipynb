{
 "cells": [
  {
   "cell_type": "code",
   "execution_count": 1,
   "metadata": {
    "collapsed": true
   },
   "outputs": [],
   "source": [
    "# NO CODE\n",
    "from datascience import *\n",
    "from prob140 import *\n",
    "%matplotlib inline\n",
    "import matplotlib.pyplot as plt\n",
    "plt.style.use('fivethirtyeight')\n",
    "import numpy as np\n",
    "from scipy import special"
   ]
  },
  {
   "cell_type": "markdown",
   "metadata": {},
   "source": [
    "# Homework 2 #"
   ]
  },
  {
   "cell_type": "markdown",
   "metadata": {},
   "source": [
    "### Instructions\n",
    "\n",
    "In all Stat 88 homework, you will be providing written answers, not code. We encourage you to hand-write your answers. You can LaTeX your answers if you wish, but staff will not be able to assist you with LaTeX related issues. It is your responsibility to ensure that the homework is submitted completely and properly to Gradescope. Refer to the bottom of the notebook for submission instructions.\n",
    "\n",
    "### How to Do Your Homework\n",
    "  The point of homework is for you to try your hand at using what you've learned in class. The steps to follow:\n",
    "\n",
    "- Go to lecture and sections, and also go over the relevant text sections and discussion sections before starting on the homework. You should not expect to simply remember all the ideas and details from what you heard in class.\n",
    "- Attempt the homework problems by yourself with the text and section work at hand. The step above will help this step go faster and be more fruitful.\n",
    "- At this point, seek help if you need it. Don't ask how to do the problem — ask how to get started, or explain where you are stuck and ask for a nudge to get you past that point.\n",
    "- For a good measure of your understanding, keep track of the fraction of the homework you can do by yourself or with minimal help. It's a better measure than your homework score, and only you can measure it.\n",
    "- **Show all work. Give reasoning. The question isn't always going to ask for it, because we assume that you will provide justification for your answers. Calculations are fine as justifications, as are diagrams that are clearly labeled to show what's going on.**\n",
    "- **Draw lots of diagrams. They are really helpful, as in this homework where a Venn diagram or two might save you a headache or two.**"
   ]
  },
  {
   "cell_type": "markdown",
   "metadata": {},
   "source": [
    "## 1. Classes in a Sample ##\n",
    "\n",
    "A data scientist studying a manufacturing process classifies each item produced by the process as either Poor, Acceptable, or Excellent. Assume that the classes of different items are independent of each other and that each item falls into the classes according to the following probabilities:\n",
    "\n",
    "| Poor | Acceptable | Excellent |\n",
    "|------|------------|-----------|\n",
    "| 0.25 | 0.6        | 0.15      |\n",
    "\n",
    "\n",
    "The data scientist receives three items produced by the manufacturing process.\n",
    "\n",
    "Find the chance that:\n",
    "\n",
    "**a)** all of items are Acceptable\n",
    "\n",
    "**b)** none of the items is Acceptable\n",
    "\n",
    "**c)** at least one of the items is Excellent\n",
    "\n",
    "**d)** not all of the items are Excellent\n",
    "\n",
    "**e)** there is one item of each class\n"
   ]
  },
  {
   "cell_type": "markdown",
   "metadata": {},
   "source": [
    "## 2. Balls in Boxes ##\n",
    "\n",
    "Students in probability classes sometimes wonder by probabilists seem to have a peculiar fascination with balls being thrown at random into boxes or drawn at random from urns. It's not just because probabilists are weird. It's because the image of balls and boxes is one unified way of thinking about repeated trials in diverse settings.\n",
    "\n",
    "For example, balls thrown at random into boxes independently of each other is a way of visualizing independent repeated trials that have equally likely outcomes. \n",
    "\n",
    "- Tossing a coin 10 times and keeping track of heads and tails is like throwing 10 balls independently at random into two boxes labeled H and T. The number of heads is the number of balls that fall in Box H.\n",
    "- Rolling a die 15 times and keeping track of the faces that appear is like throwing 15 balls independently at random into six boxes labeled $1, 2, 3, 4, 5, 6$.\n",
    "- Sampling $n$ times at random with replacement from a population of $N$ individuals is like throwing $n$ balls independently at random into $N$ boxes labeled $1, 2, \\ldots, N$. \n",
    "\n",
    "\n",
    "**a)** A random number generator that draws digits at random with replacement from $\\{0, 1, 2, 3, 4, 5, 6, 7, 8, 9\\}$ is run three times. Find the chance that the digits drawn can form the number 105 by rearrangement if necessary. Start by filling in the blanks in the following sentence; the first two blanks should be filled with integers. \"This experiment is like throwing $\\underline{~~~~~~~~~~}$ balls independently at random into $\\underline{~~~~~~~~~~}$ boxes labeled $\\underline{~~~~~~~~~~~~~~~~~~~~~~~~~~~~~~~}$.\" Then imagine where the balls must land to make the event occur. \n",
    "\n",
    "**b)** Five people enter an Evans Hall elevator (going up) on the first floor. Assume that each person presses the button for one of floors 2 through 10 at random, independently of all others. Find the chance that they press five different buttons. Start by filling in the blanks in the following sentence; the first two blanks should be filled with integers. \"This experiment is like throwing $\\underline{~~~~~~~~~~}$ balls independently at random into $\\underline{~~~~~~~~~~}$ boxes labeled $\\underline{~~~~~~~~~~~~~~~~~~~~~~~~~~~~~~~}$.\" Then imagine where the balls must land to make the event occur. \n"
   ]
  },
  {
   "cell_type": "markdown",
   "metadata": {},
   "source": [
    "## 3. Detecting Breast Cancer ##\n",
    "\n",
    "A 2011 [article](https://ebm.bmj.com/content/16/6/163) in the British Medical Journal attempts to elucdiate Bayes' Rule for the medical profession. It's well worth reading and has some illuminating graphics. In this exercise you will confirm a result stated in the article. Useful terminology:\n",
    "\n",
    "- The *sensitivity* of a test for a medical condition is the proportion of correctly diagnosed patients among those who have the condition.\n",
    "- The *specificity* of the test is the proportion of correctly diagnosed patients among those who do not have the condition.\n",
    "\n",
    "Read those definitions a couple of times and note that a good test should have high values of both sensitivity and specificity.\n",
    "\n",
    "In the section Special Cases, the authors consider a 45-year-old woman who has a 1% chance of getting breast cancer in the subsequent five years. The article says, \"The sensitivity of routine screening mammography ranges from 71% to 96% and the specificity ranges from 94% to 97%. Using values of 80% for sensitivity and 96% for specificity, a positive test increases the probability to 17%.\"\n",
    "\n",
    "For this problem, show your work in finding each probability and box the final decimal answer.\n",
    "\n",
    "**a)** Use the same values as in the authors' calculation and confirm their result that \"a positive test increases the probability to 17%.\"\n",
    "\n",
    "**b)** Find all of the following; percents are fine too:\n",
    "\n",
    "(i) the chance that the woman won't get breast cancer in the subsequent five years\n",
    "\n",
    "(ii) the chance that the woman won't get breast cancer in the subsequent five years, if her test result is negative\n",
    "\n",
    "(iii) the chance that the woman won't get breast cancer in the subsequent five years, if her test result is positive\n",
    "\n",
    "(iv) the chance that the woman's test result is negative\n",
    "\n",
    "\n",
    "**c)** Suppose a woman went to get tested because she believed she had a 10% chance of getting breast cancer in the subsequent five years. What would be her probability of getting the disease, based on a positive test result? Use a sensitivity value of 80% and a specificity value of 96%."
   ]
  },
  {
   "cell_type": "markdown",
   "metadata": {},
   "source": [
    "## 4. Chocolate Box ##\n",
    "\n",
    "A box contains 12 chocolates, 3 of which are white chocolate, 4 milk chocolate, and 5 dark chocolate. \n",
    "\n",
    "I am sharing the box with three of my friends. The four of us take turns, each one drawing a chocolate at random from those available in the box. Yes, we're drawing without replacement. We intend to eat the chocolates, not put them back.\n",
    "\n",
    "Politely, I let my friends draw before me.\n",
    "\n",
    "For each of the subparts, provide your answer as an unsimplified fractional expression.\n",
    "\n",
    "**a)** What is the chance that I draw a dark chocolate?\n",
    "\n",
    "**b)** Given that none of my friends draws a dark chocolate, what is the chance that I draw a dark chocolate?\n",
    "\n",
    "**c)** What is the chance that all four of us draw milk chocolates?\n",
    "\n",
    "**d)** What is the chance that the friend who gets to select first draws a dark chocolate and I draw a dark chocolate too?"
   ]
  },
  {
   "cell_type": "markdown",
   "metadata": {},
   "source": [
    "## 5. Suzuki or Lamborghini? ##\n",
    "Suzuki is one of most commonly owned makes of cars in our county (Alameda). A car heading from Berkeley to San Francisco is pulled over on the freeway for speeding. Suppose I tell you that the car is either a Suzuki or a Lamborghini, and you have to guess which of the two is more likely. \n",
    "\n",
    "What would you guess, and why? Explain how your guess makes use of the material covered in class this week. \n",
    "\n",
    "Note: This is not the standard kind of math question you are used to answering. You have to answer in words, based on incomplete information, giving a cogent argument based not just on opinion but on probability theory. Welcome to data science!"
   ]
  },
  {
   "cell_type": "markdown",
   "metadata": {},
   "source": [
    "## Submission Instructions     \n",
    "Please follow the directions below to properly submit your homework.\n",
    "\n",
    "*  Scan all pages of **your work** into a PDF. You can use any scanner or a phone using applications such as CamScanner. Please **DO NOT** simply take pictures using your phone. \n",
    "* Please start a new page for each question. If you have already written multiple questions on the same page, you can crop the image in CamScanner or fold your page over (the old-fashioned way). This helps expedite grading.\n",
    "* It is your responsibility to check that all the work on all the scanned pages is legible.\n",
    "\n",
    "\n",
    "### Submitting\n",
    "* Submit the assignment to Homework2 on Gradescope. Use the entry code **MVZGEG** if you haven't already joined the class.\n",
    "* **Make sure to assign each page of your pdf to the correct question.**\n"
   ]
  },
  {
   "cell_type": "code",
   "execution_count": null,
   "metadata": {
    "collapsed": true
   },
   "outputs": [],
   "source": []
  }
 ],
 "metadata": {
  "kernelspec": {
   "display_name": "Python 3",
   "language": "python",
   "name": "python3"
  },
  "language_info": {
   "codemirror_mode": {
    "name": "ipython",
    "version": 3
   },
   "file_extension": ".py",
   "mimetype": "text/x-python",
   "name": "python",
   "nbconvert_exporter": "python",
   "pygments_lexer": "ipython3",
   "version": "3.6.3"
  }
 },
 "nbformat": 4,
 "nbformat_minor": 2
}
