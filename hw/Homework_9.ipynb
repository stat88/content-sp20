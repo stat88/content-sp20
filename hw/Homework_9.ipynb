{
 "cells": [
  {
   "cell_type": "code",
   "execution_count": 4,
   "metadata": {
    "collapsed": true
   },
   "outputs": [],
   "source": [
    "from scipy import stats\n",
    "import numpy as np"
   ]
  },
  {
   "cell_type": "markdown",
   "metadata": {},
   "source": [
    "# Homework 9 #"
   ]
  },
  {
   "cell_type": "markdown",
   "metadata": {},
   "source": [
    "## 1. Stadium Design ##\n",
    "A stadium designer has placed 900 seats in one section of the stadium. Assume that the weights of people who will occupy those seats are i.i.d. with a mean of 160 pounds and an SD of 25 pounds. \n",
    "\n",
    "Fill in the blanks with numbers and show your calculation: With chance about 99%, the total weight of people in the 900 seats will be in the range $\\underline{~~~~~~~~~~~~~~~~~~~~~} \\pm \\underline{~~~~~~~~~~~~~~~~~~~~~}$ pounds."
   ]
  },
  {
   "cell_type": "code",
   "execution_count": null,
   "metadata": {
    "collapsed": true
   },
   "outputs": [],
   "source": [
    "# Code Cell for Problem 1\n",
    "\n",
    "\n",
    "\n"
   ]
  },
  {
   "cell_type": "markdown",
   "metadata": {},
   "source": [
    "## 2. Average Income ##\n",
    "\n",
    "A state has millions of households. The average annual income of the households is 78,000 dollars and the SD is 40,000 dollars. \n",
    "\n",
    "Fill in the blank with a number:\n",
    "\n",
    "There is about a 95% chance that the average annual income of a simple random sample of 625 families drawn from is state is more than $\\underline{~~~~~~~~~~~~~~~~~~~~}$ dollars."
   ]
  },
  {
   "cell_type": "code",
   "execution_count": null,
   "metadata": {
    "collapsed": true
   },
   "outputs": [],
   "source": [
    "# Code Cell for Problem 1\n",
    "\n",
    "\n",
    "\n"
   ]
  },
  {
   "cell_type": "markdown",
   "metadata": {},
   "source": [
    "## 3. Lengths of Phone Calls, Part I ##\n",
    "The lengths of phone calls to the receptionist of a small company are i.i.d. with a mean of 5 minutes and an SD of 8 minutes.\n",
    "\n",
    "**a)** Find or approximate the chance that the total length of the next 250 calls is less than 20 hours. \n",
    "\n",
    "**b)** Did you use the normal curve in your calculation in **a**? If so, which of the following did the curve represent and why? Pick one and explain.\n",
    "\n",
    "- (i) the distribution of the lengths of the next 250 calls\n",
    "\n",
    "- (ii) the probability distribution of the total length of the next 250 calls\n",
    "\n",
    "- (iii) the observed distribution of the total length of the next 250 calls"
   ]
  },
  {
   "cell_type": "code",
   "execution_count": null,
   "metadata": {
    "collapsed": true
   },
   "outputs": [],
   "source": [
    "# Code Cell for Problem 3\n",
    "\n",
    "\n",
    "\n"
   ]
  },
  {
   "cell_type": "markdown",
   "metadata": {},
   "source": [
    "## 4. Lengths of Phone Calls, Part II ##\n",
    "\n",
    "As in the previous exercise, suppose the lengths of phone calls to the receptionist of a small company are i.i.d. with a mean of 5 minutes and an SD of 8 minutes.\n",
    "\n",
    "Let $X_1, X_2, \\ldots, X_n$ be the lengths of $n$ calls in minutes, and let $A_n = \\frac{1}{n} \\sum_{i=1}^n X_i$ be the sample average length.\n",
    "\n",
    "In each of the following parts, either find the chance exactly, or approximate it, or bound it. Do the best you can with the information given.\n",
    "\n",
    "**a)** $P(\\vert A_{16} - 5 \\vert < 4)$\n",
    "\n",
    "**b)** $P(\\vert A_{1600} - 5 \\vert < 0.4)$"
   ]
  },
  {
   "cell_type": "code",
   "execution_count": null,
   "metadata": {
    "collapsed": true
   },
   "outputs": [],
   "source": [
    "# Code Cell for Problem 3\n",
    "\n",
    "\n",
    "\n"
   ]
  },
  {
   "cell_type": "markdown",
   "metadata": {},
   "source": [
    "## Submission Instructions     \n",
    "Please follow the directions below to properly submit your homework.\n",
    "\n",
    "*  Scan all pages of **your work** into a PDF. You can use any scanner or a phone. Please **DO NOT** simply take pictures using your phone. \n",
    "* Please start a new page for each question. If you have already written multiple questions on the same page, you can crop the image or fold your page over (the old-fashioned way). This helps expedite grading.\n",
    "* It is your responsibility to check that all the work on all the scanned pages is legible.\n",
    "\n",
    "\n",
    "### Submitting\n",
    "* Submit the assignment to Homework 9 on Gradescope.\n",
    "* **Make sure to assign each page of your pdf to the correct question.**\n"
   ]
  },
  {
   "cell_type": "code",
   "execution_count": null,
   "metadata": {
    "collapsed": true
   },
   "outputs": [],
   "source": []
  }
 ],
 "metadata": {
  "kernelspec": {
   "display_name": "Python 3",
   "language": "python",
   "name": "python3"
  },
  "language_info": {
   "codemirror_mode": {
    "name": "ipython",
    "version": 3
   },
   "file_extension": ".py",
   "mimetype": "text/x-python",
   "name": "python",
   "nbconvert_exporter": "python",
   "pygments_lexer": "ipython3",
   "version": "3.6.3"
  }
 },
 "nbformat": 4,
 "nbformat_minor": 2
}
