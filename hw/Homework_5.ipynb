{
 "cells": [
  {
   "cell_type": "code",
   "execution_count": 15,
   "metadata": {
    "collapsed": true
   },
   "outputs": [],
   "source": [
    "from scipy import stats\n",
    "import numpy as np"
   ]
  },
  {
   "cell_type": "markdown",
   "metadata": {},
   "source": [
    "# Homework 5 #"
   ]
  },
  {
   "cell_type": "markdown",
   "metadata": {},
   "source": [
    "## 1. Max and Sum ##\n",
    "\n",
    "Two draws are made at random without replacement from the digits $\\{1, 2, 3, 4\\}$. Let $X_1$ be the first digit drawn and $X_2$ the second.\n",
    "\n",
    "Let $M = \\max(X_1, X_2)$ and $S = X_1 + X_2$.\n",
    "\n",
    "**a)** Find $E(S)$.\n",
    "\n",
    "**b)** Make a joint distribution table for $M$ and $S$.\n",
    "\n",
    "**c)** Use the table in Part **b** to find the distribution of $M$.\n",
    "\n",
    "**d)** Find $E(M)$."
   ]
  },
  {
   "cell_type": "markdown",
   "metadata": {},
   "source": [
    "## 2. Multiple Choice ##\n",
    "\n",
    "A standardized test consists of 100 multiple-choice questions. Each question has five possible answers, only one of which is correct. Four points are awarded for each correct answer. To discourage guessing, one point is taken away for every answer that is not correct (this includes answers that are missing).\n",
    "\n",
    "The company that creates the test has to understand how well a student could do just by random guessing. Suppose a student answers each question by picking one of the five choices at random independently of the choices on all other questions. Let $S$ be the student's score on the test.\n",
    "\n",
    "**a)** Find $E(S)$.\n",
    "\n",
    "**b)** Find $P(S > 10)$. Write your answer as a math expression, then use the code cell below to find its numerical value and provide it along with your math expression."
   ]
  },
  {
   "cell_type": "code",
   "execution_count": null,
   "metadata": {
    "collapsed": true
   },
   "outputs": [],
   "source": []
  },
  {
   "cell_type": "markdown",
   "metadata": {},
   "source": [
    "## 3. Ice Cream Truck ##\n",
    "\n",
    "An ice cream truck has ten different flavors of popsicles. Suppose $n$ customers each pick a flavor at random, independently of the choices of others. In each part below, find the expectation of the described random variable.\n",
    "\n",
    "**a)** the number of flavors that are not picked\n",
    "\n",
    "**b)** the number of flavors that are picked\n",
    "\n",
    "**c)** the number of flavors that are picked by more than one customer"
   ]
  },
  {
   "cell_type": "markdown",
   "metadata": {},
   "source": [
    "## 4. Eluding Capture ##\n",
    "\n",
    "A large pond contains $f$ fish, of which $t$ have been tagged. Biologist A takes a simple random sample of $n_A$ fish from the pond. Biologist B takes a simple random sample of $n_B$ fish from the fish that remain in the pond after Biologist A has drawn her sample. You can assume that $n_A + n_B < t$.\n",
    "\n",
    "**a)** Fill in the blank with a math expression involving any or all of $f$, $t$, $n_A$, and $n_B$. **Explain your answer.**\n",
    "\n",
    "The number of tagged fish in Biologist A's sample has expectation $\\underline{~~~~~~~~~~~~~~~~~~~~~~~~~~~~~~~}$.\n",
    "\n",
    "**b)**  Fill in the blank (carefully!) with a math expression involving any or all of $f$, $t$, $n_A$, and $n_B$. **Explain your answer.**\n",
    "\n",
    "The number of tagged fish in Biologist B's sample has expectation $\\underline{~~~~~~~~~~~~~~~~~~~~~~~~~~~~~~~}$.\n",
    "\n",
    "**c)** Fill in the blank with a math expression involving any or all of $f$, $t$, $n_A$, and $n_B$. **Explain your answer.**\n",
    "\n",
    "The number of tagged fish that don't get into the samples has expectation $\\underline{~~~~~~~~~~~~~~~~~~~~~~~~~~~~~~~}$."
   ]
  },
  {
   "cell_type": "markdown",
   "metadata": {},
   "source": [
    "## Submission Instructions     \n",
    "Please follow the directions below to properly submit your homework.\n",
    "\n",
    "*  Scan all pages of **your work** into a PDF. You can use any scanner or a phone. Please **DO NOT** simply take pictures using your phone. \n",
    "* Please start a new page for each question. If you have already written multiple questions on the same page, you can crop the image or fold your page over (the old-fashioned way). This helps expedite grading.\n",
    "* It is your responsibility to check that all the work on all the scanned pages is legible.\n",
    "\n",
    "\n",
    "### Submitting\n",
    "* Submit the assignment to Homework 5 on Gradescope. \n",
    "* **Make sure to assign each page of your pdf to the correct question.**\n"
   ]
  },
  {
   "cell_type": "code",
   "execution_count": null,
   "metadata": {
    "collapsed": true
   },
   "outputs": [],
   "source": []
  }
 ],
 "metadata": {
  "kernelspec": {
   "display_name": "Python 3",
   "language": "python",
   "name": "python3"
  },
  "language_info": {
   "codemirror_mode": {
    "name": "ipython",
    "version": 3
   },
   "file_extension": ".py",
   "mimetype": "text/x-python",
   "name": "python",
   "nbconvert_exporter": "python",
   "pygments_lexer": "ipython3",
   "version": "3.6.3"
  }
 },
 "nbformat": 4,
 "nbformat_minor": 2
}
