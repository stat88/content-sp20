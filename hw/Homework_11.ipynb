{
 "cells": [
  {
   "cell_type": "code",
   "execution_count": 1,
   "metadata": {},
   "outputs": [],
   "source": [
    "import numpy as np\n",
    "from scipy import stats"
   ]
  },
  {
   "cell_type": "markdown",
   "metadata": {},
   "source": [
    "## Homework 11 ##"
   ]
  },
  {
   "cell_type": "markdown",
   "metadata": {},
   "source": [
    "### 1. Working with Densities ###\n",
    "Let $X$ have density given by\n",
    "\n",
    "$$\n",
    "f(x) ~ = ~ \n",
    "\\begin{cases}\n",
    "c(1-x^2) ~~~ -1 < x < 1 \\\\\n",
    "0 ~~~~~~~~~~~~~~ \\text{ otherwise }\n",
    "\\end{cases}\n",
    "$$\n",
    "\n",
    "Here $c$ is a constant. \n",
    "\n",
    "**a)** Sketch (by hand) a graph of the density. It's a good idea to start by finding the values of $f$ at $x = \\pm 1$, $0$, and $\\pm 0.5$.\n",
    "\n",
    "Now find each of the following, and use a code cell if necessary to provide the numerical values as well.\n",
    "\n",
    "**b)** $c$\n",
    "\n",
    "**c)** the cdf of $X$\n",
    "\n",
    "**d)** $P(\\vert X \\vert > 0.5)$\n",
    "\n",
    "**e)** $E(X)$\n",
    "\n",
    "**f)** $SD(X)$"
   ]
  },
  {
   "cell_type": "code",
   "execution_count": 2,
   "metadata": {},
   "outputs": [],
   "source": [
    "### Code Cell for Problem 1\n",
    "\n",
    "\n",
    "\n"
   ]
  },
  {
   "cell_type": "markdown",
   "metadata": {},
   "source": [
    "### 2. Screen-Saver ###\n",
    "\n",
    "A laptop screen-saver displays colored discs of random radius. Let $R_i$ be the radius of the $i$th disc, and suppose $R_1, R_2, R_3 \\ldots $ are i.i.d. with density given by\n",
    "\n",
    "$$\n",
    "f(r) ~ = ~ \n",
    "\\begin{cases}\n",
    "2r ~~~~~~~~ 0 < r < 1 \\\\\n",
    "0 ~~~~~~~~~ \\text{ otherwise }\n",
    "\\end{cases}\n",
    "$$\n",
    "\n",
    "What is the chance that at least one of the first 10 discs has area less than $\\frac{\\pi}{4}$?"
   ]
  },
  {
   "cell_type": "code",
   "execution_count": 3,
   "metadata": {},
   "outputs": [],
   "source": [
    "### Code Cell for Problem 2\n",
    "\n",
    "\n",
    "\n"
   ]
  },
  {
   "cell_type": "markdown",
   "metadata": {},
   "source": [
    "### 3. Gauss Model for Measurement Error ###\n",
    "\n",
    "Probabilistic models are often used to describe the processes that generate data. Necessarily, the models are simplifications of reality. Good modeling is a balance between reducing complexity and retaining the crucial features of the phenomenon being studied. \n",
    "\n",
    "[\"Measure twice, cut once\"](https://en.wiktionary.org/wiki/measure_twice_and_cut_once) is a proverb that arises from the experience that repeated measurements lead to more accurate results. The *Gauss model* for measurement error is a set of assumptions about repeated measurements made using sophisticated measuring devices such as those that use [lasers](https://en.wikipedia.org/wiki/Lidar) to measure distance. \n",
    "\n",
    "In essence, the model says that each measuremement is the true value plus a random error, and specifies some assumptions about the errors.\n",
    "\n",
    "Let $X_1, X_2, X_3, \\ldots$ be repeated measurements on the same quantity. The Gauss model says that the quantity has a true value that is an unknown constant $\\mu$, and the $i$th measurement is\n",
    "\n",
    "$$\n",
    "X_i ~ = ~ \\mu + \\epsilon_i\n",
    "$$\n",
    "\n",
    "where $\\epsilon_1, \\epsilon_2, \\epsilon_3 \\ldots $ are i.i.d. random errors with expectation 0. It's traditional in statistics to use the Greek letter $\\epsilon$ to represent a random error.\n",
    "\n",
    "You can think of the observation $X_i$ as the sum of the *signal* $\\mu$ and the *noise* $\\epsilon_i$. Your job as a data scientist is to extract the signal from this sum.\n",
    "\n",
    "Suppose that measurements on a distance $\\mu$ meters follow the Gauss model and that the distribution of each $\\epsilon_i$ is uniform on the interval $(-5, 5)$ centimeters.\n",
    "\n",
    "**a)** What is the chance that a single measurement is strictly within 1 centimeter of the true distance $\\mu$ meters?\n",
    "\n",
    "**b)** Approximately what is the chance that the average of 100 measurements is strictly within 1 centimeter of the true distance $\\mu$ meters?"
   ]
  },
  {
   "cell_type": "code",
   "execution_count": 4,
   "metadata": {},
   "outputs": [],
   "source": [
    "### Code Cell for Problem 3\n",
    "\n",
    "\n",
    "\n"
   ]
  },
  {
   "cell_type": "markdown",
   "metadata": {},
   "source": [
    "### 4. Calfiornia Earthquakes ###\n",
    "\n",
    "California is prone to earthquakes, and geostatisticians use probabilistic models to try to understand them. In this exercise, \"earthquake\" will mean an earthquake of magnitude 4.9 or greater on the Richter scale. The figure below shows the distribution of the gaps in time (measured in days) between earthquakes in California during the years 1857 to 2014. The red curve is an exponential density.\n",
    "\n",
    "![earthquake gaps](hw11_earthquakes.png)\n",
    "\n",
    "You can see why it is tempting to use an exponential model for the gaps. You can also see that it's an over-simplifcation. But it's a start. \n",
    "\n",
    "Suppose the time between two earthquakes has the exponential distribution with mean 1100 days. \n",
    "\n",
    "Use `np.e` for $e$ and `np.log` for the $\\log$ function when you compute numerical values below.\n",
    "\n",
    "**a)** Find the chance that an earthquake happens within a year after the previous one. Ignore leap years; just use 365 for the number of days in a year. You are using a simplified model for data, so your answers will be rough anyway.\n",
    "\n",
    "**b)** Fill in the blank with a number:\n",
    "\n",
    "There is a 50% chance that an earthquake happens less than $\\underline{~~~~~~~~~~~~~~~}$ days after the previous one.\n",
    "\n",
    "**c)** Let $T$ be the time between two earthquakes, measured in days. Now let $X$ be $T$ measured in years, using 365 days as the length of a year. Write the relation between $T$ and $X$, and then find $P(X \\le x \\text{ years})$ for $x > 0$.\n",
    "\n",
    "**d)** Use Part **c** to identify the distribution of $X$. Provide its name, the parameter or parameters, and the expectation."
   ]
  },
  {
   "cell_type": "code",
   "execution_count": null,
   "metadata": {},
   "outputs": [],
   "source": [
    "### Code Cell for Problem 4\n",
    "\n",
    "\n",
    "\n"
   ]
  },
  {
   "cell_type": "markdown",
   "metadata": {},
   "source": [
    "### 5. Minimum of Independent Exponentials ###\n",
    "\n",
    "A device has two electronic components. Let $T_1$ be the lifetime of Component 1, and suppose $T_1$ has the exponential distribution with mean 5 years. Let $T_2$ be the lifetime of Component 2, and suppose $T_2$ has the exponential distribution with mean 4 years. \n",
    "\n",
    "Suppose $T_1$ and $T_2$ are independent of each other, and let $M = \\min(T_1, T_2)$ be the minimum of the two lifetimes. In other words, $M$ is the first time one of the two components dies.\n",
    "\n",
    "**a)** For each $t > 0$, find $P(M > t)$.\n",
    "\n",
    "[Hint: If the minimum has to be bigger than $t$, what does that tell you about each of the lifetimes?]\n",
    "\n",
    "**b)** Use Part **a** to identify the distribution of $M$. Provide its name and parameter (or parameters, if there are more than one).\n",
    "\n",
    "**c)** Find the numerical value of $E(M)$."
   ]
  },
  {
   "cell_type": "code",
   "execution_count": null,
   "metadata": {},
   "outputs": [],
   "source": [
    "### Code Cell for Problem 5\n",
    "\n",
    "\n",
    "\n"
   ]
  },
  {
   "cell_type": "markdown",
   "metadata": {},
   "source": [
    "## Submission Instructions     \n",
    "Please follow the directions below to properly submit your homework.\n",
    "\n",
    "*  Scan all pages of **your work** into a PDF. You can use any scanner or a phone. Please **DO NOT** simply take pictures using your phone. \n",
    "* Please start a new page for each question. If you have already written multiple questions on the same page, you can crop the image or fold your page over (the old-fashioned way). This helps expedite grading.\n",
    "* It is your responsibility to check that all the work on all the scanned pages is legible.\n",
    "\n",
    "\n",
    "### Submitting\n",
    "* Submit the assignment to Homework 11 on Gradescope. Use the entry code **MYBG2Z** if you haven't already joined the class.\n",
    "* **Make sure to assign each page of your pdf to the correct question.**\n"
   ]
  },
  {
   "cell_type": "code",
   "execution_count": null,
   "metadata": {},
   "outputs": [],
   "source": []
  }
 ],
 "metadata": {
  "kernelspec": {
   "display_name": "Python 3",
   "language": "python",
   "name": "python3"
  },
  "language_info": {
   "codemirror_mode": {
    "name": "ipython",
    "version": 3
   },
   "file_extension": ".py",
   "mimetype": "text/x-python",
   "name": "python",
   "nbconvert_exporter": "python",
   "pygments_lexer": "ipython3",
   "version": "3.6.3"
  }
 },
 "nbformat": 4,
 "nbformat_minor": 2
}
