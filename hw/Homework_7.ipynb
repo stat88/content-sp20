{
 "cells": [
  {
   "cell_type": "markdown",
   "metadata": {},
   "source": [
    "# Homework 7 #"
   ]
  },
  {
   "cell_type": "markdown",
   "metadata": {},
   "source": [
    "### 1. Folding Over ###\n",
    "\n",
    "Let $X$ have the distribution given by\n",
    "\n",
    "|$~~~~~~~~~~~~ x$| $-2$ | $-1$ | $0$ | $1$ | $2$ |\n",
    "|---------------:|:---:|:---:|:---:|:---:|:---:|\n",
    "|$P(X = x)$| $0.15$ | $0.2$ | $0.3$ | $0.2$ | $0.15$ |\n",
    "\n",
    "In what follows, you're welcome to use the code cell below to find numerical answers. You can also use a calculator if you prefer.\n",
    "\n",
    "**a)** Sketch (by hand) the probability histogram of $X$ by centering a bar of width 1 over each possible value of $X$. Find $E(X)$ and mark it on the horizontal axis.\n",
    "\n",
    "**b)** Find $SD(X)$. \n",
    "\n",
    "**c)** Sketch (by hand) the probability histogram of $\\vert X \\vert$ by centering a bar of width 1 over each possible value of $\\vert X \\vert$. Find $E(\\vert X \\vert)$ and mark it on the horizontal axis.\n",
    "\n",
    "**d)** Find $SD(\\vert X \\vert)$. "
   ]
  },
  {
   "cell_type": "markdown",
   "metadata": {},
   "source": [
    "### 2. Guessing on a Test ###\n",
    "The designers of a true-false test would like to find out how a student would perform if the student just guessed all the answers at random. (Designers of multiple-choice tests like the SAT have to consider this issue as well.)\n",
    "\n",
    "There are 100 questions on the test. One point is awarded for each correct answer and 1 point is taken away for any other kind of answer (wrong, missing, ambiguous, or anything other than correct).\n",
    "\n",
    "The test designers have figured out that the number of questions the student gets right by guessing at random has expectation 50 and SD 5.\n",
    "\n",
    "**a)** Let $W$ be the number of questions the student does not get right. Find $E(W)$ and $SD(W)$.\n",
    "\n",
    "**b)** Let $S$ be the student's score on the test. Find $E(S)$ and $SD(S)$."
   ]
  },
  {
   "cell_type": "markdown",
   "metadata": {},
   "source": [
    "### 3. Making a Million ###\n",
    "\n",
    "In a city, the average annual income of adults is $\\$60,000$. This figure includes those who don't have an income. The average annual income of adults who do have an income is considerably higher: $\\$105,000$. \n",
    "\n",
    "[Note: These figures are adapted from Census Bureau estimates for [San Francisco](https://smartasset.com/retirement/average-salary-in-san-francisco).]\n",
    "\n",
    "**a)** Pick an adult at random in this city. What can you say about the chance that the selected person's income is at least a million dollars?\n",
    "\n",
    "**b)** Pick an adult at random from those in this city who have an income. What can you say about the chance that the selected person's income is at least a million dollars?"
   ]
  },
  {
   "cell_type": "markdown",
   "metadata": {},
   "source": [
    "### 4. Stuck in Traffic ###\n",
    "\n",
    "The duration of a campus worker's commute (measured in minutes) is a random variable $T$ such that $E(T) = 40$ and $SD(T) = 15$.\n",
    "\n",
    "**a)** Find the best upper bound you can on $P(T \\ge 90)$.\n",
    "\n",
    "**b)** Find the smallest $t$ you can so that $P(T < t) \\ge 99\\%$."
   ]
  },
  {
   "cell_type": "markdown",
   "metadata": {},
   "source": [
    "## Submission Instructions     \n",
    "Please follow the directions below to properly submit your homework.\n",
    "\n",
    "*  Scan all pages of **your work** into a PDF. You can use any scanner or a phone. Please **DO NOT** simply take pictures using your phone. \n",
    "* Please start a new page for each question. If you have already written multiple questions on the same page, you can crop the image or fold your page over (the old-fashioned way). This helps expedite grading.\n",
    "* It is your responsibility to check that all the work on all the scanned pages is legible.\n",
    "\n",
    "\n",
    "### Submitting\n",
    "* Submit the assignment to Homework 7 on Gradescope. \n",
    "* **Make sure to assign each page of your pdf to the correct question.**\n"
   ]
  },
  {
   "cell_type": "code",
   "execution_count": null,
   "metadata": {
    "collapsed": true
   },
   "outputs": [],
   "source": []
  }
 ],
 "metadata": {
  "kernelspec": {
   "display_name": "Python 3",
   "language": "python",
   "name": "python3"
  },
  "language_info": {
   "codemirror_mode": {
    "name": "ipython",
    "version": 3
   },
   "file_extension": ".py",
   "mimetype": "text/x-python",
   "name": "python",
   "nbconvert_exporter": "python",
   "pygments_lexer": "ipython3",
   "version": "3.6.3"
  }
 },
 "nbformat": 4,
 "nbformat_minor": 2
}
