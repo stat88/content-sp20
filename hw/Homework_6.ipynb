{
 "cells": [
  {
   "cell_type": "markdown",
   "metadata": {},
   "source": [
    "# Homework 6 #"
   ]
  },
  {
   "cell_type": "markdown",
   "metadata": {},
   "source": [
    "## 1. Unbiased Estimator ##\n",
    "\n",
    "The distribution of a random variable $X$ which has possible values $1$ to $4$ involves an unknown parameter $\\theta$.\n",
    "\n",
    "- $P(X = 1) = 0.5$ \n",
    "- $P(X = 2) = \\theta$\n",
    "- $P(X = 3) = \\theta$\n",
    "- $P(X = 4) = 0.5 - 2\\theta$\n",
    "\n",
    "**a)** Let $X_1, X_2, \\ldots, X_n$ be independent and identically distributed, each with the same distribution as $X$ described above. Let $\\bar{X}$ be the sample mean $(X_1 + X_2 + \\ldots + X_n)/n$. Use $\\bar{X}$ to construct an unbiased estimator of $\\theta$.\n",
    "\n",
    "**b)** Suppose that the random variables $X_1, X_2, \\ldots, X_n$ in Part **a)** were not independent but each of them still had the same distribution as $X$. In what way, if any, would this have changed your answer to Part **a**?"
   ]
  },
  {
   "cell_type": "markdown",
   "metadata": {},
   "source": [
    "## 2. Randomized Response ##\n",
    "Survey respondents understandably don't like to answer questions about sensitive topics such as illegal drug use. If data scientists want to estimate the proportion of illegal drug users in a population, they have to devise methods of getting the information they need while maintaining the privacy of the individual respondents.\n",
    "\n",
    "*Randomized response* schemes are often used in such situations. In one such scheme, each surveyed person is given a coin and asked to answer YES or NO after following these instructions out of sight of the surveyor:\n",
    "\n",
    "- Toss the coin.\n",
    "    - If it lands heads, then truthfully answer, \"Do you use illegal drugs?\"\n",
    "    - If it lands tails, then toss it again and answer, \"Did the second toss land heads?\"\n",
    "\n",
    "This way each respondent answers YES or NO but the surveyor doesn't know which question was answered. The data scientists then have to estimate the proportion of illegal drug users based on the overall proportion of YES answers, which includes the YES answers to the second question.\n",
    "\n",
    "Let the unknown proportion of illegal drug users in a large population be $p$, and suppose a random sample of size $n$ is surveyed using the scheme above. You can assume that the sampling is equivalent to drawing at random with replacement.\n",
    "\n",
    "**a)** Let $X$ be the proportion of sampled people who answer YES. Find $E(X)$.\n",
    "\n",
    "**b)** Use $X$ to construct an unbiased estimator of $p$."
   ]
  },
  {
   "cell_type": "markdown",
   "metadata": {},
   "source": [
    "## 3. Office Hours ##\n",
    "\n",
    "A student decides to go to office hours the next day. With chance 80% he will go to an afternoon hour, and with the remaining chance he will go in the morning. If he goes in the afternoon, the number of students who will already be in the office hour room when he arrives has the uniform distribution on $\\{3, 4, 5, 6, 7\\}$. If he goes in the morning, the number of students who will already be in office hour room when he arrives has the Poisson $(2)$ distribution.\n",
    "\n",
    "**a)** Find the chance that fewer than 5 students are already in the office hour room when he arrives.\n",
    "\n",
    "**b)** Find the expected number of students already in the office hour room when he arrives."
   ]
  },
  {
   "cell_type": "markdown",
   "metadata": {},
   "source": [
    "## 4. Overlapping Trials ##\n",
    "\n",
    "A die that has two red faces and four green faces is tossed three times. Let $V$ be the number of times green faces show in the first two rolls, let $W$ be the number of times green faces show in the last two rolls, and let $S$ be the number of times green faces show in all three rolls.\n",
    "\n",
    "**a)** For each $w = 0, 1, 2$, find the conditional distribution of $V$ given $W=w$. Your answer should consist of three distribution tables (with reasoning or calculations, of course).\n",
    "\n",
    "**b)** Use your answer to **a** to find $E(V \\mid W = w)$ for each $w = 0, 1, 2$.\n",
    "\n",
    "**c)** Find the conditional distribution of $S$ given $W = 1$, and hence find $E(S \\mid W = 1)$.\n",
    "\n",
    "**d)** Find $E(W \\mid S = 1)$."
   ]
  },
  {
   "cell_type": "markdown",
   "metadata": {},
   "source": [
    "## 5. Sticker Collection ##\n",
    "\n",
    "Each box of Cal Crunch cereal contains a sticker. The sticker is equally likely to have one of the following five pictures on it, independently of the stickers in all other boxes.\n",
    "\n",
    "- a walking bear\n",
    "- a sleeping bear\n",
    "- the Campanile\n",
    "- Sather Gate\n",
    "- Evans Hall\n",
    "\n",
    "Stat 88 GSIs love to snack on Cal Crunch so they buy a box each week and put the sticker in their collection. In what follows, remember that \"till\" means \"up to and including\".\n",
    "\n",
    "**a)** Find the expected number of weeks till their collection has a bear sticker.\n",
    "\n",
    "**b)** Find the expected number of weeks till their collection has all five kinds of stickers.\n",
    "\n",
    "**c)** Find the expected number of weeks till their collection has a bear as well as a campus location.\n",
    "\n",
    "[They will get one of these on the first week. Remember to count that week in your calculation.]"
   ]
  },
  {
   "cell_type": "markdown",
   "metadata": {},
   "source": [
    "## Submission Instructions     \n",
    "Please follow the directions below to properly submit your homework.\n",
    "\n",
    "*  Scan all pages of **your work** into a PDF. You can use any scanner or a phone. Please **DO NOT** simply take pictures using your phone. \n",
    "* Please start a new page for each question. If you have already written multiple questions on the same page, you can crop the image or fold your page over (the old-fashioned way). This helps expedite grading.\n",
    "* It is your responsibility to check that all the work on all the scanned pages is legible.\n",
    "\n",
    "\n",
    "### Submitting\n",
    "* Submit the assignment to Homework 6 on Gradescope. \n",
    "* **Make sure to assign each page of your pdf to the correct question.**\n"
   ]
  },
  {
   "cell_type": "raw",
   "metadata": {},
   "source": []
  }
 ],
 "metadata": {
  "kernelspec": {
   "display_name": "Python 3",
   "language": "python",
   "name": "python3"
  },
  "language_info": {
   "codemirror_mode": {
    "name": "ipython",
    "version": 3
   },
   "file_extension": ".py",
   "mimetype": "text/x-python",
   "name": "python",
   "nbconvert_exporter": "python",
   "pygments_lexer": "ipython3",
   "version": "3.6.3"
  }
 },
 "nbformat": 4,
 "nbformat_minor": 2
}
