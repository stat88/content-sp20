{
 "cells": [
  {
   "cell_type": "code",
   "execution_count": 1,
   "metadata": {},
   "outputs": [],
   "source": [
    "import numpy as np\n",
    "from scipy import stats"
   ]
  },
  {
   "cell_type": "markdown",
   "metadata": {},
   "source": [
    "# Homework 12 #"
   ]
  },
  {
   "cell_type": "markdown",
   "metadata": {},
   "source": [
    "## 1. Six-Footers ##\n",
    "\n",
    "The heights $X_1, X_2, \\ldots, X_{10}$ of a random sample of 10 people are i.i.d. normal random $(\\mu, \\sigma^2)$ variables. Assume the heights are measured in inches.\n",
    "\n",
    "**a)** Suppose $P(X_1 < 65) = 0.2$ and $P(X_1 < 71) = 0.9$. Find $\\mu$ and $\\sigma$.\n",
    "\n",
    "**b)** Find the chance that at most two of the sampled people are more than six feet tall.\n",
    "\n",
    "**c)** Let $\\bar{X}$ be the average height of the sampled people. If possible, find the distribution of $\\bar{X}$. If this is not possible, explain why not."
   ]
  },
  {
   "cell_type": "code",
   "execution_count": null,
   "metadata": {},
   "outputs": [],
   "source": [
    "# Code Cell for Problem 1\n",
    "\n",
    "\n",
    "\n"
   ]
  },
  {
   "cell_type": "markdown",
   "metadata": {},
   "source": [
    "## 2. Missing the Bus ##\n",
    "I arrive at a bus stop at a time that is normally distributed with mean 07:59 and SD 1.5 minutes. My bus arrives at the stop at an independent normally distributed time with mean 08:03 a.m. and SD 2 minutes. The bus remains at the stop for 1 minute and then leaves.\n",
    "\n",
    "What is the chance that I miss the bus?"
   ]
  },
  {
   "cell_type": "code",
   "execution_count": null,
   "metadata": {},
   "outputs": [],
   "source": [
    "# Code Cell for Problem 2\n",
    "\n",
    "\n",
    "\n"
   ]
  },
  {
   "cell_type": "markdown",
   "metadata": {},
   "source": [
    "## 3. College Graduates in Seattle and SF ##\n",
    "In a simple random sample of 400 people taken in Seattle, 63% are college graduates. In an independent simple random sample of 600 people taken in San Francisco, 59% are college graduates.\n",
    "\n",
    "**a)** Is the proportion of college graduates different in the two cities, or is this just chance variation? Answer by performing a test of hypotheses at the 5% level. Your answer should include a null hypothesis in terms of random variables, an appropriate alternative hypothesis, a test statistic, a $p$-value, and a conclusion, along with justifications for all of these.\n",
    "\n",
    "**b)** Construct an approximate 95% confidence interval for the difference between the percents of college graduates in Seattle and San Francisco (define the difference as the percent in Seattle minus the percent in SF).\n"
   ]
  },
  {
   "cell_type": "code",
   "execution_count": null,
   "metadata": {},
   "outputs": [],
   "source": [
    "# Code Cell for Problem 3\n",
    "\n",
    "\n",
    "\n"
   ]
  },
  {
   "cell_type": "markdown",
   "metadata": {},
   "source": [
    "## 4. Size of Error, Part I ##\n",
    "\n",
    "Data scientists often have to estimate the size of a random error. A simple model for a random error is that it is distributed uniformly on the interval $(-\\theta, \\theta)$ for some constant $\\theta > 0$.\n",
    "\n",
    "If $\\theta$ is unknown, data scientists might have to estimate it. Suppose they have just one data point $Y$ distributed uniformly on $(-\\theta, \\theta)$. Let's see how they can use it to estimate $\\theta$.\n",
    "\n",
    "**a)** The first step is to simplify the problem. Let $X = \\vert Y \\vert$. What are the possible values of $X$? For each possible value $x$, find $P(X > x)$ and hence identify the distribution of $X$.\n",
    "\n",
    "**b)** To estimate $\\theta$, suppose the data scientists use the estimator $T_1 = X$. Find the bias of $T_1$ and also the variance of $T_1$.\n",
    "\n",
    "**c)** Use $T_1$ to construct an unbiased estimator of $\\theta$. Call this new estimator $T_2$. The good news is that it is unbiased by your construction. Now find $Var(T_2)$ and compare it with $Var(T_1)$ in Part **b**."
   ]
  },
  {
   "cell_type": "markdown",
   "metadata": {},
   "source": [
    "## 5. Size of Error, Part II ##\n",
    "\n",
    "Now let $X_1, X_2, \\ldots, X_n$ be i.i.d. uniform on $(0, \\theta)$. As in the previous exercise, the goal is to use the data to estimate $\\theta$.\n",
    "\n",
    "**a)** Let $\\bar{X}$ be the sample mean. Use $\\bar{X}$ to construct an unbiased estimator $T$ of the parameter $\\theta$, and find $Var_\\theta(T)$.\n",
    "\n",
    "**b)** Let $M = \\max(X_1, X_2, \\ldots, X_n)$. Find $E_\\theta(M)$ by finding first the cdf, then the density, and then the expectation.\n",
    "\n",
    "**c)** Explain your answer for $E_\\theta(M)$ by a symmetry argument. [Draw the interval $(0, \\theta)$. Take $n = 3$ or some other small integer, and throw down $n$ points on the interval. Stare at the gaps created. How many are there? How many between $0$ and $M$?]\n",
    "\n",
    "**d)** Find the bias of $M$ and say what happens to the bias as the sample size gets large.\n",
    "\n",
    "**e)** Find $Var(M)$. For this you do need the density you found in Part **b**. \n",
    "\n",
    "**f)** If the sample is large, which of the two estimators $M$ and $T_1$ would you rather use, and why? Make a strong case for your choice. You are welcome to support your answer by algebra/calculus or numerical computation. \n",
    "\n",
    "**[You're on your own for Part f. No help will be provided.]**"
   ]
  },
  {
   "cell_type": "code",
   "execution_count": null,
   "metadata": {},
   "outputs": [],
   "source": [
    "# Code Cell for Problem 5\n",
    "\n",
    "\n",
    "\n"
   ]
  },
  {
   "cell_type": "markdown",
   "metadata": {},
   "source": [
    "## Submission Instructions     \n",
    "Please follow the directions below to properly submit your homework.\n",
    "\n",
    "*  Scan all pages of **your work** into a PDF. You can use any scanner or a phone. Please **DO NOT** simply take pictures using your phone. \n",
    "* Please start a new page for each question. If you have already written multiple questions on the same page, you can crop the image or fold your page over (the old-fashioned way). This helps expedite grading.\n",
    "* It is your responsibility to check that all the work on all the scanned pages is legible.\n",
    "\n",
    "\n",
    "### Submitting\n",
    "* Submit the assignment to Homework 12 on Gradescope. Use the entry code **MYBG2Z** if you haven't already joined the class.\n",
    "* **Make sure to assign each page of your pdf to the correct question.**\n"
   ]
  },
  {
   "cell_type": "code",
   "execution_count": null,
   "metadata": {},
   "outputs": [],
   "source": []
  }
 ],
 "metadata": {
  "kernelspec": {
   "display_name": "Python 3",
   "language": "python",
   "name": "python3"
  },
  "language_info": {
   "codemirror_mode": {
    "name": "ipython",
    "version": 3
   },
   "file_extension": ".py",
   "mimetype": "text/x-python",
   "name": "python",
   "nbconvert_exporter": "python",
   "pygments_lexer": "ipython3",
   "version": "3.6.3"
  }
 },
 "nbformat": 4,
 "nbformat_minor": 2
}
