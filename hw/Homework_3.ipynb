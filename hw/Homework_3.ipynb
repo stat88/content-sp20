{
 "cells": [
  {
   "cell_type": "code",
   "execution_count": 2,
   "metadata": {
    "collapsed": true
   },
   "outputs": [],
   "source": [
    "from datascience import *\n",
    "from scipy import stats\n",
    "from scipy import special\n",
    "import numpy as np"
   ]
  },
  {
   "cell_type": "markdown",
   "metadata": {},
   "source": [
    "# Homework 3 #"
   ]
  },
  {
   "cell_type": "markdown",
   "metadata": {},
   "source": [
    "In some of the problems below, you have to do a numerical calculation in a code cell. All the libraries you might need have been imported for you, but in fact you don't need most of them. Run the import cell at the top before you start the homework.\n",
    "\n",
    "In some problems we have given you some skeleton code but you don't have to use it; we won't grade any of the code. \n",
    "\n",
    "**Note about terminology.** Once and for all: If a question says \"$k$ successes\" it means exactly $k$ successes."
   ]
  },
  {
   "cell_type": "markdown",
   "metadata": {},
   "source": [
    "## 1. Students Rolling Dice ##\n",
    "\n",
    "A probability class consists of 20 students, unimaginatively called Student 1, Student 2, and so on.\n",
    "\n",
    "**a)** Student 1 rolls a die 12 times. Write a math expression for the chance that Student 1 gets 2 sixes. Use the code cell below to write a Python expression that evaluates to the chance, and then write the output on your paper along with the math expression. You don't have to write all the decimal places. Just four or five places is fine, and don't worry about exactly how to round."
   ]
  },
  {
   "cell_type": "code",
   "execution_count": null,
   "metadata": {
    "collapsed": true
   },
   "outputs": [],
   "source": [
    "# Numerical answer to 1a\n",
    "\n",
    "ans_1a = ...\n",
    "ans_1a"
   ]
  },
  {
   "cell_type": "markdown",
   "metadata": {},
   "source": [
    "**b)** Each of the 20 students rolls 12 dice. Write a math expression for $P(\\text{at least one of the students gets 2 sixes})$. You will need the answer to part **a** but you don't have to rewrite it. Just call it $p$. \n",
    "\n",
    "The numerical value of $p$ is `ans_1a` above. Use the code cell below to find the numerical value of $P(\\text{at least one of the students gets 2 sixes})$ and write the output on your paper along with the math expression."
   ]
  },
  {
   "cell_type": "code",
   "execution_count": null,
   "metadata": {
    "collapsed": true
   },
   "outputs": [],
   "source": [
    "# Numerical answer to 1b\n",
    "\n",
    "ans_1b = ...\n",
    "ans_1b"
   ]
  },
  {
   "cell_type": "markdown",
   "metadata": {},
   "source": [
    "**c)** Suppose instead the students proceed as follows:\n",
    "\n",
    "- Student 1 rolls a die 12 times. If 2 sixes appear, the experiment is over. If not, then\n",
    "- Student 2 rolls a die 12 times. If 2 sixes appear, the experiment is over. If not, then\n",
    "- Student 3 rolls a die 12 times. If 2 sixes appear, the experiment is over. If not, then\n",
    "- Student 4 rolls 12 dice ...\n",
    "\n",
    "And so on.\n",
    "\n",
    "Write a math expression for the chance that Student 5 is the first student who sees 2 sixes. \n",
    "\n",
    "Use the code cell below to find the numerical value of the chance and write it on your paper along with your expression."
   ]
  },
  {
   "cell_type": "code",
   "execution_count": null,
   "metadata": {
    "collapsed": true
   },
   "outputs": [],
   "source": [
    "# Numerical answer to 1c\n",
    "\n",
    "ans_1c = ...\n",
    "ans_1c"
   ]
  },
  {
   "cell_type": "markdown",
   "metadata": {},
   "source": [
    "## 2. Cal M&Ms ##\n",
    "A bowl of M&M's consists of 100 blue M&Ms and 90 gold M&Ms. Assume that the M&Ms are all mixed up in the bowl, and that drawing out M&Ms is like simple random sampling.\n",
    "\n",
    "**a)** Suppose you draw out 10 M&Ms. Write a math expression for the chance that you get more blue M&Ms than gold. Use the cell below to find the numerical value of the answer, and write the output on your paper along with the math expression."
   ]
  },
  {
   "cell_type": "code",
   "execution_count": null,
   "metadata": {
    "collapsed": true
   },
   "outputs": [],
   "source": [
    "# Numerical answer to 2a\n",
    "\n",
    "b = ...\n",
    "...stats...pmf(b, ...)..."
   ]
  },
  {
   "cell_type": "markdown",
   "metadata": {},
   "source": [
    "**b)** Suppose you draw out 10 M&Ms and then I draw out 10 M&Ms from those that remain in the bowl. Find the chance that we get the same number of gold M&Ms. Yes, 0 is a number.\n",
    "\n",
    "You don't have to compute the numerical value of this one, but here is a code cell in case you want to."
   ]
  },
  {
   "cell_type": "code",
   "execution_count": null,
   "metadata": {
    "collapsed": true
   },
   "outputs": [],
   "source": [
    "# Optional: numerical answer to 2b\n",
    "# Use as many lines as you need\n",
    "\n",
    "..."
   ]
  },
  {
   "cell_type": "markdown",
   "metadata": {},
   "source": [
    "## 3. Treatment and Control ##\n",
    "\n",
    "A randomized controlled experiment has 50 participants, of whom 20 are women. A simple random sample of 25 participants are assigned to the treatment group and the remainder to the control group.\n",
    "\n",
    "**a)** Say whether the following statement is true or false. If it is true, provide a math expression for the chance. If it is false, provide math expressions for the two chances.\n",
    "\n",
    "$P(\\text{the treatment group has 16 women}) ~ = ~ P(\\text{the control group has 16 women})$\n",
    "\n",
    "**b)** Say whether the following statement is true or false, and justify your answer.\n",
    "\n",
    "The event \"the treatment group has 16 women\" is independent of the event \"the control group has 16 women\".\n",
    "\n",
    "**c)** Write a math expression for the chance that there are at least six women in both groups.\n",
    "\n",
    "[Hint: This can be done by just thinking about the women in one of the groups. Any other way will prove quite a bit harder.]"
   ]
  },
  {
   "cell_type": "markdown",
   "metadata": {},
   "source": [
    "## 4. Thoughtful Politicians ##\n",
    "[This problem setting is due to [Prof. James Norris](http://www.statslab.cam.ac.uk/Dept/People/norris.html) of Cambridge University.] \n",
    "\n",
    "In a group of 100 politicians, 40 are in Party I and 60 are in Party II. Members of Party I are incapable of changing their minds about anything. Members of Party II change their minds completely randomly every day, independently of all others and also independently of all evidence.\n",
    "\n",
    "Tomorrow, the politicians are going to vote on Proposition 88. Here is a summary of their opinions today.\n",
    "\n",
    "- Of the 40 members in Party I, 25 are in favor of Prop 88 and 15 are against.\n",
    "- Of the 60 members in Party II, 10 are in favor and 50 are against.\n",
    "\n",
    "Assume that each member in Party II changes their mind based on the toss of a coin: if it lands heads they switch to the opposite opinion and if it lands tails they don't change their mind.\n",
    "\n",
    "**a)** What is the distribution of the number of members in Party II who will favor Prop 88 tomorrow? In what way, if any, does it depend on the information given about the opinions of Party II members today?\n",
    "\n",
    "**b)** Write a math expression for the chance that a majority (more than 50) of the 100 politicians favor Prop 88 tomorrow. Use the code cell below to compute it and provide the final numerical answer on paper along with your math expression. "
   ]
  },
  {
   "cell_type": "code",
   "execution_count": null,
   "metadata": {
    "collapsed": true
   },
   "outputs": [],
   "source": [
    "# Numerical answer to 4b\n",
    "\n",
    "k = ...\n",
    "\n",
    "# P(majority favors Prop 88 tomorrow)\n",
    "\n",
    "...stats...pmf(k, ...)..."
   ]
  },
  {
   "cell_type": "markdown",
   "metadata": {},
   "source": [
    "## 5. Relations Between Distributions ## \n",
    "\n",
    "A die is rolled 24 times. Let $X$ be the number of sixes in the first 10 rolls and let $Y$ be the number of sixes in all 24 rolls.\n",
    "\n",
    "**a)** Fill in the blank and *explain your answer*.\n",
    "\n",
    "The values of $x$ for which $P(X = x, Y = 5)$ is positive range are $0, 1, \\ldots, \\underline{~~~~}$.\n",
    "\n",
    "**b)** For the values of $x$ you found in part **a**, find $P(X = x, Y = 5)$.\n",
    "\n",
    "**c)** For the values of $x$ you found in part **a**, find $P(X = x \\mid Y = 5)$. \n",
    "\n",
    "**d)** Fill in the blanks. The first blank should be filled with the name of a famous distribution. \n",
    "\n",
    "The conditional probabilities in Part **c** are the same as those in the $\\underline{~~~~~~~~~~~~~~~~~~~~~~~}$ distribution with parameters $\\underline{~~~~~~~~~~~~~~~~~~~~~~~~~~~~~~~}$.\n",
    "\n",
    "**e)** Suppose instead the problem had been that a coin is tossed 24 times; $X$ is the number of heads in the first 10 tosses; $Y$ is the number of heads in all 24 tosses; repeat parts **a-d** under these assumptions. Would your answer to part **d)** have been different? Explain; you don't have to calculate and write out parts **a-d** for this new situation, but you can if you wish."
   ]
  },
  {
   "cell_type": "markdown",
   "metadata": {},
   "source": [
    "## Submission Instructions     \n",
    "Please follow the directions below to properly submit your homework.\n",
    "\n",
    "*  Scan all pages of **your work** into a PDF. You can use any scanner or a phone using applications such as CamScanner. Please **DO NOT** simply take pictures using your phone. \n",
    "* Please start a new page for each question. If you have already written multiple questions on the same page, you can crop the image in CamScanner or fold your page over (the old-fashioned way). This helps expedite grading.\n",
    "* It is your responsibility to check that all the work on all the scanned pages is legible.\n",
    "\n",
    "\n",
    "### Submitting\n",
    "* Submit the assignment to Homework 3 on Gradescope. \n",
    "* **Make sure to assign each page of your pdf to the correct question.**\n"
   ]
  },
  {
   "cell_type": "code",
   "execution_count": null,
   "metadata": {
    "collapsed": true
   },
   "outputs": [],
   "source": []
  }
 ],
 "metadata": {
  "kernelspec": {
   "display_name": "Python 3",
   "language": "python",
   "name": "python3"
  },
  "language_info": {
   "codemirror_mode": {
    "name": "ipython",
    "version": 3
   },
   "file_extension": ".py",
   "mimetype": "text/x-python",
   "name": "python",
   "nbconvert_exporter": "python",
   "pygments_lexer": "ipython3",
   "version": "3.6.3"
  }
 },
 "nbformat": 4,
 "nbformat_minor": 2
}
