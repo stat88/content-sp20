{
 "cells": [
  {
   "cell_type": "code",
   "execution_count": null,
   "metadata": {},
   "outputs": [],
   "source": [
    "from datascience import *\n",
    "%matplotlib inline\n",
    "import matplotlib.pyplot as plt\n",
    "plt.style.use('fivethirtyeight')\n",
    "import numpy as np\n",
    "from scipy import stats"
   ]
  },
  {
   "cell_type": "markdown",
   "metadata": {},
   "source": [
    "## Regression Lab 12/5 ##"
   ]
  },
  {
   "cell_type": "markdown",
   "metadata": {},
   "source": [
    "### Part 1: Understanding the Regression Model ###\n",
    "\n",
    "Answer the following questions for the regression model (not the particular case in the diagrams).\n",
    "\n",
    "**1)** For each quantity below, classify it as one of \"real number\" or \"random variable\", and also as one of \"observable\" or \"unobservable\".\n",
    "\n",
    "- $\\beta_0$: \n",
    "- $\\beta_1$: \n",
    "- $\\epsilon_i$: \n",
    "- $\\sigma$: \n",
    "- $x_i$: \n",
    "- $Y_i$: \n",
    "- $\\hat{\\beta}_0$: \n",
    "- $\\hat{\\beta}_1$: \n",
    "\n",
    "**2)** In class we showed that $E(\\bar{Y}) = \\beta_0 + \\beta_1\\bar{x}$. \n",
    "\n",
    "We also showed that $E(\\hat{\\beta}_1) = \\beta_1$. That is, $\\hat{\\beta}_1$ is an unbiased estimator of $\\beta_1$.\n",
    "\n",
    "Recall that the intercept of the regression line is given by \"the average of $Y$ minus the slope times the average of $x$. That is, $\\hat{\\beta}_0 = \\bar{Y} - \\hat{\\beta}_1\\bar{x}$. Is $\\hat{\\beta}_0$ an unbiased estimator of $\\beta_0$?\n",
    "\n",
    "\n",
    "**3)** The *fitted* or *predicted* value of the response for the $i$th indvidual is the height of the regression line at $x_i$:\n",
    "\n",
    "$$\n",
    "\\hat{Y}_i ~ = ~ \\hat{\\beta}_0 + \\hat{\\beta}_1x_i\n",
    "$$\n",
    "\n",
    "Show that $\\hat{Y}_i$ is an unbiased estimator of $\\beta_0 + \\beta_1x_i$, the height of the true line at $x_i$.\n",
    "\n",
    "\n",
    "### Summary ###\n",
    "\n",
    "- The intercept $\\hat{\\beta}_0$ of the regression line is an unbiased estimator of the intercept $\\beta_0$ of the true line.\n",
    "- The slope $\\hat{\\beta}_1$ of the regression line is an unbiased estimator of the slope $\\beta_1$ of the true line.\n",
    "- The predicted value $\\hat{Y}_i$ of the response of the $i$th individual is an unbiased estimator of that individual's true response $\\beta_0 + \\beta_1x_i$."
   ]
  },
  {
   "cell_type": "markdown",
   "metadata": {},
   "source": [
    "### Part 2: Applying the Regression Model ###\n",
    "\n",
    "[Dataset documentation](https://vincentarelbundock.github.io/Rdatasets/doc/Stat2Data/Pulse.html)\n",
    "\n",
    "Our goal is to use the resting pulse rate to predict the active pulse rate."
   ]
  },
  {
   "cell_type": "code",
   "execution_count": null,
   "metadata": {},
   "outputs": [],
   "source": [
    "pulse = Table.read_table('pulse.csv').drop(0)"
   ]
  },
  {
   "cell_type": "code",
   "execution_count": null,
   "metadata": {},
   "outputs": [],
   "source": [
    "pulse"
   ]
  },
  {
   "cell_type": "code",
   "execution_count": null,
   "metadata": {},
   "outputs": [],
   "source": [
    "pulse.scatter(1, 0)"
   ]
  },
  {
   "cell_type": "markdown",
   "metadata": {},
   "source": [
    "**4)** Explain why you might want to apply the regression model to these data, and which assumptions give you the most cause for concern. "
   ]
  },
  {
   "cell_type": "markdown",
   "metadata": {},
   "source": [
    "**5)** The Table method `scatter` can display the regression line but it does not provide the slope, intercept, and other quantities."
   ]
  },
  {
   "cell_type": "code",
   "execution_count": null,
   "metadata": {},
   "outputs": [],
   "source": [
    "pulse.scatter(1, 0, fit_line=True)"
   ]
  },
  {
   "cell_type": "markdown",
   "metadata": {},
   "source": [
    "We will now use `stats` to find the numerical values of the slope, intercept, and so on. First extract the $x$ and $Y$ values as arrays."
   ]
  },
  {
   "cell_type": "code",
   "execution_count": null,
   "metadata": {},
   "outputs": [],
   "source": [
    "active = pulse.column(0)\n",
    "resting = pulse.column(1)"
   ]
  },
  {
   "cell_type": "markdown",
   "metadata": {},
   "source": [
    "Then use `stats.linregress(x=predictor_variable, y=response)`:"
   ]
  },
  {
   "cell_type": "code",
   "execution_count": null,
   "metadata": {},
   "outputs": [],
   "source": [
    "stats.linregress(x=resting, y=active)"
   ]
  },
  {
   "cell_type": "markdown",
   "metadata": {},
   "source": [
    "That's a bit of a mess. Here's a way to assign each element of the output to a name. Ignore `pvalue` and `stderror` for now."
   ]
  },
  {
   "cell_type": "code",
   "execution_count": null,
   "metadata": {},
   "outputs": [],
   "source": [
    "# stats.linregress(x, y)\n",
    "\n",
    "slope, intercept, r, p, se_slope = stats.linregress(x=resting, y=active)\n",
    "slope, intercept, r, p, se_slope"
   ]
  },
  {
   "cell_type": "markdown",
   "metadata": {},
   "source": [
    "True or false: $\\beta_1 = 1.142879681904831$.\n",
    "\n",
    "**6)** Find the regression estimate of the active pulse rate of a student whose resting pulse rate is 70. This is the fitted value at $x = 70$."
   ]
  },
  {
   "cell_type": "code",
   "execution_count": null,
   "metadata": {},
   "outputs": [],
   "source": [
    "est_70 = ..."
   ]
  },
  {
   "cell_type": "markdown",
   "metadata": {},
   "source": [
    "**7)** Find the SD of the residuals. This is roughly the error in the estimate in **6**, and is an estimate of $\\sigma$."
   ]
  },
  {
   "cell_type": "code",
   "execution_count": null,
   "metadata": {},
   "outputs": [],
   "source": [
    "..."
   ]
  }
 ],
 "metadata": {
  "kernelspec": {
   "display_name": "Python 3",
   "language": "python",
   "name": "python3"
  },
  "language_info": {
   "codemirror_mode": {
    "name": "ipython",
    "version": 3
   },
   "file_extension": ".py",
   "mimetype": "text/x-python",
   "name": "python",
   "nbconvert_exporter": "python",
   "pygments_lexer": "ipython3",
   "version": "3.6.3"
  }
 },
 "nbformat": 4,
 "nbformat_minor": 2
}
