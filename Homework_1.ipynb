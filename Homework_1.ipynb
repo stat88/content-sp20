{
 "cells": [
  {
   "cell_type": "code",
   "execution_count": null,
   "metadata": {
    "collapsed": true
   },
   "outputs": [],
   "source": [
    "# HIDDEN\n",
    "from datascience import *\n",
    "from prob140 import *\n",
    "%matplotlib inline\n",
    "import matplotlib.pyplot as plt\n",
    "plt.style.use('fivethirtyeight')\n",
    "import numpy as np"
   ]
  },
  {
   "cell_type": "markdown",
   "metadata": {},
   "source": [
    "## Homework 1 ##"
   ]
  },
  {
   "cell_type": "markdown",
   "metadata": {},
   "source": [
    "### Instructions\n",
    "\n",
    "In all Stat 88 homework, you will be providing written answers, not code. We encourage you to hand-write your answers. You can LaTeX your answers if you wish, but staff will not be able to assist you with LaTeX related issues. It is your responsibility to ensure that the homework is submitted completely and properly to Gradescope. Refer to the bottom of the notebook for submission instructions.\n",
    "\n",
    "### How to Do Your Homework\n",
    "  The point of homework is for you to try your hand at using what you've learned in class. The steps to follow:\n",
    "\n",
    "- Go to lecture and sections, and also go over the relevant text sections and discussion sections before starting on the homework. You should not expect to simply remember all the ideas and details from what you heard in class.\n",
    "- Attempt the homework problems by yourself with the text and section work at hand. The step above will help this step go faster and be more fruitful.\n",
    "- At this point, seek help if you need it. Don't ask how to do the problem — ask how to get started, or explain where you are stuck and ask for a nudge to get you past that point.\n",
    "- For a good measure of your understanding, keep track of the fraction of the homework you can do by yourself or with minimal help. It's a better measure than your homework score, and only you can measure it.\n",
    "- **Show all work. Give reasoning. The question isn't always going to ask for it, because we assume that you will provide justification for your answers. Calculations are fine as justifications, as are diagrams that are clearly labeled to show what's going on.**\n",
    "- **Draw lots of diagrams. They are really helpful, as in this homework where a Venn diagram or two might save you a headache or two.**\n"
   ]
  },
  {
   "cell_type": "markdown",
   "metadata": {},
   "source": [
    "### 1. Leibniz's Error ###\n",
    "\n",
    "The German philosopher and mathematician [Gottfried von Leibniz](https://en.wikipedia.org/wiki/Gottfried_Wilhelm_Leibniz) came up with the ideas of calculus, independently of Isaac Newton. Leibniz was also interested in probability, and while his name is associated with many fundamentally important areas of mathematics, it is also associated with an unfortunate statement about chances.\n",
    "\n",
    "Consider rolling two dice and adding up the total number of spots you get. Leibniz called these \"points\", so that for example if both dice show one spot then you get two points. \n",
    "\n",
    "**a)** Imagine one of the dice to be blue and the other one gold, and let an outcome consist of the pair of faces that appear. How many possible outcomes does the experiment have? You can reason by a calculation, or by listing all the outcomes, or by displaying them in a suitable table, or any unambiguous method of your choice.\n",
    "\n",
    "**b)** In 1768, Leibniz wrote in his *Opera Omnia* that, \"... for example, with two dice, it is equally likely to throw twelve points, than to throw 11; because one or the other can be done in only one manner.\" Assume as Leibniz did that both dice are fair and that therefore all the outcomes in Part **a** are equally likely. Find $P(\\text{11 points})$ as well as $P(\\text{12 points})$ and explain why the answer is not what Leibniz wrote. \n",
    "\n",
    "**c)** It appears that Leibniz didn't take the time to actually roll two dice over and over again and keep track of the number of points. You don't have to either. Just extend the calculation that you did in Part **b** to find the distribution of probabilities for the number of points that result from the experiment. Display your answer in a table that has two rows. The top row should consist of all the possible numbers of points, in increasing order. The bottom row should contain the corresponding probabilities. \n",
    "\n",
    "As an example of such a \"distribution table\", here is one that displays the distribution of probabilities of points if the experiment consisted of rolling just one die.\n",
    "\n",
    "|Number of points *n*|1|2|3|4|5|6|\n",
    "|---------:| | | | | | |\n",
    "|P( *n* points)|1/6|1/6|1/6|1/6|1/6|1/6|\n",
    "\n",
    "Once you have completed your table, you will see why the distribution is called *triangular*."
   ]
  },
  {
   "cell_type": "markdown",
   "metadata": {},
   "source": [
    "### 2. Rainy Weekend? ###\n",
    "\n",
    "Suppose you're heading off for a long weekend (Friday, Saturday, and Sunday) somewhere and the weather report for your destination says:\n",
    "\n",
    "- Chance of rain on Friday: 10%\n",
    "- Chance of rain on Saturday: 25%\n",
    "- Chance of rain on Sunday: 30%\n",
    "\n",
    "In each part below, find the chance exactly if it can be found using no further assumptions. If it can't be found, then (again using no further assumptions) find the best lower bound and upper bound that you can.\n",
    "\n",
    "**a)** the chance that it rains in your destination sometime during the long weekend\n",
    "\n",
    "**b)** the chance that it rains in your destination on all three days of the long weekend"
   ]
  },
  {
   "cell_type": "markdown",
   "metadata": {},
   "source": [
    "### 3. At Least one Head ###\n",
    "\n",
    "If you toss a coin three times then there are eight possible outcomes: HHH, HHT, HTH, THH, HTT, THT, TTH, and TTT. Let the outcome space consist of these eight outcomes. Assume that the coin is fair, so that all eight outcomes are equally likely.\n",
    "\n",
    "**a)** For each event below, write the corresponding subset and find the probability of the event.\n",
    "\n",
    "Event A: all three coins land the same way\n",
    "\n",
    "Event B: there are two heads (in this class, $n$ heads will always mean exactly $n$ heads)\n",
    "\n",
    "Event C: there are no heads\n",
    "\n",
    "Event D: there is at least one head\n",
    "\n",
    "**b)** Generalize observations you made in Part **a** to find (in terms of $n$) the simplest formula you can for the chance of getting at least one head in $n$ tosses of a fair coin. Explain how you got your answer, and say what happens to the chance as $n$ increases."
   ]
  },
  {
   "cell_type": "markdown",
   "metadata": {},
   "source": [
    "### 4. The Bonferroni Method ###\n",
    "\n",
    "Economists are making predictions about the financial health of three countries. For $i = 1, 2, 3$, let $G_i$ be the event that Country $i$ has no recession next year.\n",
    "\n",
    "The intersection $G = G_1 \\cap G_2 \\cap G_3$ is the event that all three countries have no recession next year. \n",
    "\n",
    "Another way to say this: $G$ is the event that none of the countries has a recession next year.\n",
    "\n",
    "**a)** Fill in the blank with one of the symbols $\\le$, $=$, and $\\ge$ so that the resulting statement is always true, and explain your answer: $P(G) \\underline{~~~~~~~~~~~~~~~~~} P(G_1)$.\n",
    "\n",
    "**b)** Suppose the economists' predictions are all rosy: $P(G_1) = 0.9$, $P(G_2) = 0.95$, and $P(G_3) = 0.99$.\n",
    "\n",
    "Fill in the blank with the best lower bound you can find, and justify your answer: \n",
    "\n",
    "Without making any further assumptions, we can say that $P(G) \\ge \\underline{~~~~~~~~~~~~~~~}$.\n",
    "\n",
    "[Hint: Use complements. Think about what must happen if $G$ *does not* occur. Can you find a bound on that? See the title of this problem.]\n",
    "\n",
    "The method you have discovered in this exercise is commonly used to find bounds on chances of intersections, for example the chance that several estimates based on a random sample all have acceptable accuracy."
   ]
  },
  {
   "cell_type": "markdown",
   "metadata": {},
   "source": [
    "### 5. Berkeley Degree Recipients ###\n",
    "\n",
    "Data scientists often have to make conclusions based on data collected and summarized by others. \n",
    "The website of Berkeley's Office of Planning and Analysis (OPA) contains a treasure-trove of interesting data. Their page on [Degree Recipients by Major and Demographics](https://pages.github.berkeley.edu/OPA/our-berkeley/degree-recipients-by-major.html) provides information about the academic years 2010-2011 to 2018-2019, with additional details about the last of those years.\n",
    "\n",
    "As you study the information on that page, keep a few points in mind:\n",
    "\n",
    "- Headcount literally counts heads, that is, students\n",
    "- students can get Bachelor degrees in more than one major\n",
    "- graduate students can get both Master's and PhD degrees, usually in different fields\n",
    "\n",
    "Suppose one Berkeley degree recipient in 2018-2019 was picked at random. Using the data on the page linked above, find each of the following chances exactly or provide the best lower and upper bounds you can. \n",
    "\n",
    "**a)** $P(\\text{Economics major} \\mid \\text{Bachelor degree recipient})$\n",
    "\n",
    "**b)** $P(\\text{Economics major or Political Science major} \\mid \\text{Bachelor degree recipient})$\n",
    "\n",
    "**c)** $P(\\text{Master of Laws (LLM) degree} \\mid \\text{not a Bachelor degree recipient})$\n",
    "\n",
    "[Be very careful in Part **c**. Take it nice and slow, think about the groups involved, and remember to draw diagrams. The exercise uses the same ideas as some of the other problems in this set but in a slightly different way.]"
   ]
  },
  {
   "cell_type": "markdown",
   "metadata": {},
   "source": [
    "## Submission Instructions     \n",
    "Please follow the directions below to properly submit your homework.\n",
    "\n",
    "*  Scan all pages of **your work** into a PDF. You can use any scanner or a phone using applications such as CamScanner. Please **DO NOT** simply take pictures using your phone. \n",
    "* Please start a new page for each question. If you have already written multiple questions on the same page, you can crop the image in CamScanner or fold your page over (the old-fashioned way). This helps expedite grading.\n",
    "* It is your responsibility to check that all the work on all the scanned pages is legible.\n",
    "\n",
    "\n",
    "### Submitting\n",
    "* Submit the assignment to Homework1 on Gradescope. Use the entry code **MYBG2Z** if you haven't already joined the class.\n",
    "* **Make sure to assign each page of your pdf to the correct question.**\n"
   ]
  },
  {
   "cell_type": "code",
   "execution_count": null,
   "metadata": {
    "collapsed": true
   },
   "outputs": [],
   "source": []
  }
 ],
 "metadata": {
  "kernelspec": {
   "display_name": "Python 3",
   "language": "python",
   "name": "python3"
  },
  "language_info": {
   "codemirror_mode": {
    "name": "ipython",
    "version": 3
   },
   "file_extension": ".py",
   "mimetype": "text/x-python",
   "name": "python",
   "nbconvert_exporter": "python",
   "pygments_lexer": "ipython3",
   "version": "3.6.3"
  }
 },
 "nbformat": 4,
 "nbformat_minor": 2
}
